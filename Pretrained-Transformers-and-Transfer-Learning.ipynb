{
 "cells": [
  {
   "cell_type": "markdown",
   "id": "679178ab",
   "metadata": {},
   "source": [
    "# Pretrained Transformers and Transfer Learning"
   ]
  },
  {
   "cell_type": "code",
   "execution_count": 29,
   "id": "1e3b707e-0ce9-49cb-b226-6ad387fddebb",
   "metadata": {},
   "outputs": [],
   "source": [
    "import numpy as np\n",
    "import torch \n",
    "from datasets import load_dataset\n",
    "\n",
    "cache_dir = \"./data_cache\""
   ]
  },
  {
   "cell_type": "code",
   "execution_count": 30,
   "id": "2c88b023",
   "metadata": {},
   "outputs": [
    {
     "name": "stderr",
     "output_type": "stream",
     "text": [
      "[nltk_data] Downloading package punkt to /Users/C289216/nltk_data...\n",
      "[nltk_data]   Package punkt is already up-to-date!\n"
     ]
    },
    {
     "data": {
      "text/plain": [
       "True"
      ]
     },
     "execution_count": 30,
     "metadata": {},
     "output_type": "execute_result"
    }
   ],
   "source": [
    "import nltk\n",
    "\n",
    "nltk.download('punkt')"
   ]
  },
  {
   "cell_type": "markdown",
   "id": "1e8a9045-9d0b-4427-b91c-a085496de2a5",
   "metadata": {},
   "source": [
    "# 4. Pretrained Transformers\n",
    "\n",
    "HuggingFace is a company that has developed an open source library for loading pretrained transformer models. They also distribute many models that have been pretrained using language modelling tasks, or fine-tuned to specific downstream NLP tasks.  It is currently the best library to use to create NLP models on top of large, deep neural networks. This is especially useful for tasks where simpler, feature-based methods or smaller LSTM models do not perform well enough, for example, when complex processing of syntax and semantics is required (natural language 'understanding'). \n",
    "\n",
    "Let's start by looking at two key types of object in the transformers library: models and tokenizers.\n",
    "\n",
    "## 4.1. Models\n",
    "\n",
    "The neural network models available in the Transformers library are accessed through wrapper classes such as `AutoModel`. If we want to load a pretrained model, we can simply pass its name to the `from_pretrained` function, and the pretrained model weights will be downloaded from HuggingFace and a neural network model will be created with those weights. For example:"
   ]
  },
  {
   "cell_type": "code",
   "execution_count": 31,
   "id": "122d993d-e48c-4dc2-bc14-2949b3d67e16",
   "metadata": {},
   "outputs": [],
   "source": [
    "from transformers import AutoModel # For BERTs\n",
    "\n",
    "model = AutoModel.from_pretrained(\"huawei-noah/TinyBERT_General_4L_312D\") "
   ]
  },
  {
   "cell_type": "markdown",
   "id": "bfe226ec-580f-4022-97b0-e5010ddfb55e",
   "metadata": {},
   "source": [
    "This code loads the TinyBERT model, which is a compressed version of BERT. It has 4.4 million parameters, compared to the standard version of BERT, 'BERT-base', which has 110 million parameters. While TinyBERT will not perform as well as larger models, we will use it for this notebook to save memory and computation costs. See [documentation here](https://huggingface.co/huawei-noah/TinyBERT_General_4L_312D).\n",
    "\n",
    "<!--the RoBERTa variant of BERT. It has 4.4 million parameters, compared to the standard version of BERT, 'BERT-base', which has 110 million parameters. While RoBERTa-tiny will not perform as well as larger models, we will use it for this notebook to save memory and computation costs. See [documentation here](https://huggingface.co/arampacha/roberta-tiny).  -->\n",
    "\n",
    "The same functions can be used to load other models from HuggingFace's repository simply by changing the model's name. Take a look at [the Models page](https://huggingface.co/models) to see what there is on offer. Do you recognise any of the models' names?\n",
    "\n",
    "# 4.2. Tokenizers\n",
    "\n",
    "Before we can apply a model to some text, we need to a create Tokenizer object. In Transfomers, Tokenizer objects convert raw text to a sequence of numbers. First, the tokenizer actually performs tokenization, then it maps each token to its numerical ID. There are lots of different tokenizers that we can use to preprocess text. If we are loading a pretrained model, we will need to choose the tokenizer that corresponds to that model. \n",
    "\n",
    "We can load the right tokenizer as follows, in the same way we loaded the model itself:"
   ]
  },
  {
   "cell_type": "code",
   "execution_count": 32,
   "id": "d24395ef-aa4a-4d62-a6ea-aa97d86f42c2",
   "metadata": {},
   "outputs": [],
   "source": [
    "from transformers import AutoTokenizer\n",
    "\n",
    "tokenizer = AutoTokenizer.from_pretrained(\"huawei-noah/TinyBERT_General_4L_312D\")"
   ]
  },
  {
   "cell_type": "markdown",
   "id": "7b0ed12c-cb5a-48c5-b67f-7d17b0a79514",
   "metadata": {},
   "source": [
    "Let's see what the TinyBERT tokenizer does to an example sentence:"
   ]
  },
  {
   "cell_type": "code",
   "execution_count": 33,
   "id": "73e5852f-46b3-4e28-b952-780f472b6a7e",
   "metadata": {},
   "outputs": [
    {
     "name": "stdout",
     "output_type": "stream",
     "text": [
      "['the', 'transform', '##er', 'architecture', 'has', 'transformed', 'the', 'field', 'of', 'nl', '##p', '.']\n"
     ]
    }
   ],
   "source": [
    "sentence = \"The transformer architecture has transformed the field of NLP.\"\n",
    "\n",
    "tokens = tokenizer.tokenize(sentence)\n",
    "print(tokens)"
   ]
  },
  {
   "cell_type": "markdown",
   "id": "6807c966-188f-4a0b-b435-4282d5aa0201",
   "metadata": {},
   "source": [
    "Let's compare with the NLTK tokenizer we have seen before:"
   ]
  },
  {
   "cell_type": "code",
   "execution_count": 34,
   "id": "ee63d96e-2441-4591-bff9-3a1bf6289828",
   "metadata": {},
   "outputs": [
    {
     "name": "stdout",
     "output_type": "stream",
     "text": [
      "['The', 'transformer', 'architecture', 'has', 'transformed', 'the', 'field', 'of', 'NLP', '.']\n"
     ]
    }
   ],
   "source": [
    "from nltk.tokenize import word_tokenize\n",
    "\n",
    "nltk_tokens = word_tokenize(sentence)\n",
    "print(nltk_tokens)"
   ]
  },
  {
   "cell_type": "markdown",
   "id": "ad2f2123-34a6-4095-9981-2966fdadd7d8",
   "metadata": {},
   "source": [
    "While NLTK keeps whole words as tokens, the BERT tokenizer splits some words into sub-words and inserts some special characters into the tokens. Splitting is applied to words with low frequency in the training set, such as 'transformer'. \n",
    "\n",
    "Why does you think BERT splits some words into sub-word tokens?\n",
    "\n",
    "The BERT tokenizer splits some words into sub-words as a way to improve the handling of words that have not been seen before (or very infrequently seen) in the training corpus. This allows the model to see a sub-word that may exist as a part of another input token, and this sub-word will have been more frequently seen in the vocabulary allowing for preservation of semantic meaning compared to dropping the work entirely. This is particually beneficial for use with complex words. In the example of the word 'transformer' being split into 'transform', '##er', we can see the tokeniser at work. 'transform' has been seen more commonly so is split out into a separate word followed by the suffix '##er' where '##' represents that it is joined to the preceding token with no space. \n",
    "\n",
    "---\n",
    "\n",
    "It is important to use the right tokenizer with a pretrained model as each model was trained with text tokenized in a particular way. After tokenization, the Tokenizer object can also map the tokens to their IDs (indexes in the vocabulary):"
   ]
  },
  {
   "cell_type": "code",
   "execution_count": 35,
   "id": "950440ae-d58f-4675-8fb4-6114462331fd",
   "metadata": {},
   "outputs": [
    {
     "name": "stdout",
     "output_type": "stream",
     "text": [
      "[1996, 10938, 2121, 4294, 2038, 8590, 1996, 2492, 1997, 17953, 2361, 1012]\n"
     ]
    }
   ],
   "source": [
    "ids = tokenizer.convert_tokens_to_ids(tokens)\n",
    "\n",
    "print(ids)"
   ]
  },
  {
   "cell_type": "markdown",
   "id": "ae17f77c-46f4-4ab0-9eee-858fd0b237f2",
   "metadata": {},
   "source": [
    "## 4.3. Contextualised Embeddings\n",
    "\n",
    "Now that we have a sequence of tokens, we are almost ready to process the sequence using the pretrained model. \n",
    "\n",
    "Our model takes as input a PyTorch `tensor` object. In PyTorch, `tensor` is a muli-dimensional matrix. Here, we need a two-dimensional matrix, where each row is a sequence of input tokens corresponding to a single sentence or document. Let's convert our list of IDs to a 2-D tensor with a single row:"
   ]
  },
  {
   "cell_type": "code",
   "execution_count": 36,
   "id": "07007371-2125-4fb0-8511-63ade9a2f796",
   "metadata": {},
   "outputs": [
    {
     "name": "stdout",
     "output_type": "stream",
     "text": [
      "tensor([[ 1996, 10938,  2121,  4294,  2038,  8590,  1996,  2492,  1997, 17953,\n",
      "          2361,  1012]])\n"
     ]
    }
   ],
   "source": [
    "ids_tensor = torch.tensor([ids])\n",
    "\n",
    "print(ids_tensor)"
   ]
  },
  {
   "cell_type": "markdown",
   "id": "508047c1-96fa-4839-9eb3-8e64e91c5919",
   "metadata": {},
   "source": [
    "Now we can process the sequence using our model. The model maps the sequence of input IDs to a sequence of output vectors, which are contextualised word embeddings. The hidden state values produced in the last hidden layer of the model are used as the contextualised embeddings:"
   ]
  },
  {
   "cell_type": "code",
   "execution_count": 37,
   "id": "494c8335-7c8a-47c2-b450-a3b775f2262f",
   "metadata": {},
   "outputs": [
    {
     "name": "stdout",
     "output_type": "stream",
     "text": [
      "The complete model outputs: \n",
      "BaseModelOutputWithPoolingAndCrossAttentions(last_hidden_state=tensor([[[ 0.3608,  0.2862, -0.1549,  ..., -0.2064,  0.2663, -0.0109],\n",
      "         [ 0.0149,  0.7223, -0.0508,  ..., -0.5505,  0.2355, -0.2962],\n",
      "         [ 0.1531,  0.5903, -0.1244,  ..., -0.4263,  0.0417, -0.1839],\n",
      "         ...,\n",
      "         [ 0.1742, -0.1091, -0.1963,  ..., -0.6736,  0.0472, -0.1840],\n",
      "         [ 0.2434,  0.1021, -0.2241,  ..., -0.5400, -0.1691, -0.1314],\n",
      "         [ 0.0854,  0.3272, -0.3016,  ..., -0.2154, -0.5632, -0.1921]]],\n",
      "       grad_fn=<NativeLayerNormBackward0>), pooler_output=tensor([[-1.1380e-02, -6.3005e-03,  1.8521e-02,  7.1139e-03, -3.1795e-02,\n",
      "          1.3882e-02, -1.5459e-02, -1.0610e-03, -1.8263e-02, -3.6515e-02,\n",
      "         -2.1257e-02, -1.5479e-02, -2.8092e-04, -4.1092e-02, -2.5315e-02,\n",
      "         -4.3338e-02, -1.1616e-03, -1.3931e-02,  6.0733e-03,  4.3790e-03,\n",
      "          2.7095e-04, -2.1810e-02, -4.8027e-02,  2.5493e-02, -1.6502e-02,\n",
      "         -1.2033e-03,  4.2757e-02,  3.0715e-03, -2.3439e-02, -2.5849e-02,\n",
      "         -1.1970e-02,  3.4340e-02, -1.9026e-04, -2.9000e-03, -4.1984e-02,\n",
      "          2.2932e-02,  4.0502e-02,  2.0257e-02, -3.0206e-03, -1.5759e-02,\n",
      "         -4.6124e-02,  6.4128e-03, -1.3939e-02,  4.7155e-02, -2.6471e-03,\n",
      "          3.4991e-03, -4.6633e-03,  8.5901e-03, -5.5664e-02,  9.6636e-03,\n",
      "         -1.9049e-02, -2.3983e-02,  6.6502e-03, -8.3702e-03, -1.4176e-02,\n",
      "          5.6312e-03,  4.2980e-03,  2.4337e-02, -5.4485e-04,  1.1454e-02,\n",
      "         -1.0526e-02, -2.5978e-02, -2.8789e-03, -1.9641e-02, -7.0220e-03,\n",
      "          1.9534e-02,  1.2682e-02, -5.3417e-02, -2.8266e-03,  7.8937e-03,\n",
      "         -4.0802e-02,  3.5494e-02, -8.6865e-03, -1.3383e-02,  1.6433e-03,\n",
      "          5.4637e-03,  1.8293e-02, -1.7385e-02,  3.4079e-02, -3.3782e-02,\n",
      "         -1.4324e-02,  3.0941e-02, -2.2349e-02, -1.4385e-02,  1.6197e-03,\n",
      "          2.3094e-02, -2.1322e-02,  2.5966e-02, -1.5705e-02, -2.1027e-03,\n",
      "         -1.5518e-02,  2.8620e-02,  1.5401e-02, -3.7512e-02, -6.7670e-03,\n",
      "         -8.8314e-03, -1.0061e-02, -1.0518e-02, -1.4193e-02,  4.8184e-02,\n",
      "         -4.2733e-02, -6.8396e-04,  8.1719e-03,  6.9232e-03, -2.9014e-04,\n",
      "         -1.6003e-02, -5.5383e-03,  8.2021e-03,  1.7942e-02, -2.9106e-02,\n",
      "          3.7280e-02,  2.1304e-04,  4.1467e-02, -3.1194e-02, -2.8118e-02,\n",
      "         -1.1518e-02,  4.7534e-02, -2.4884e-02, -2.2532e-02,  1.1021e-02,\n",
      "          4.2616e-02, -2.3387e-02,  3.1372e-02,  2.8326e-03,  9.1082e-03,\n",
      "          2.9967e-02,  1.8474e-02, -6.1313e-02,  1.1888e-02, -1.0234e-02,\n",
      "         -1.7436e-02, -2.5382e-03, -2.0706e-02,  6.2739e-03,  3.5936e-02,\n",
      "         -2.7933e-02,  2.7344e-02,  5.7079e-02, -1.6678e-02,  2.4630e-02,\n",
      "          2.6223e-02,  6.1134e-03,  1.2738e-02, -3.5122e-02, -6.0352e-02,\n",
      "          3.7475e-02, -2.0558e-02, -1.1147e-02, -2.5519e-02, -1.6405e-02,\n",
      "         -5.6022e-03,  3.6427e-02, -3.9645e-03,  6.1234e-03,  1.0637e-02,\n",
      "          2.0473e-02,  3.1075e-03,  1.8298e-02, -7.4328e-03,  1.4522e-02,\n",
      "         -3.2960e-02,  4.0197e-02, -4.9703e-02,  1.5634e-02,  3.3699e-02,\n",
      "          4.1567e-02,  3.4694e-02, -3.8650e-02,  4.7024e-02,  4.5112e-03,\n",
      "         -3.7264e-02, -3.8624e-02, -1.5380e-02,  9.4787e-03, -5.9185e-04,\n",
      "          2.2612e-02,  1.6623e-02,  3.8172e-02,  1.8444e-02, -2.8130e-02,\n",
      "         -8.9479e-04,  9.6280e-03,  1.0077e-02, -3.0724e-02,  2.3116e-02,\n",
      "          2.2716e-02, -2.7906e-02, -2.4386e-02,  6.4444e-03,  4.0045e-02,\n",
      "         -3.8941e-02, -1.3220e-03,  3.2294e-02,  1.9687e-02,  1.5108e-03,\n",
      "          2.2807e-03,  1.1437e-02,  2.1765e-03,  2.4419e-02,  2.5357e-02,\n",
      "         -3.9937e-02,  3.6392e-02, -1.4530e-03,  4.5135e-03, -3.1404e-02,\n",
      "         -2.7645e-02,  3.7107e-02, -2.8359e-02,  2.1804e-02, -2.8085e-02,\n",
      "          2.3142e-02, -3.7059e-02, -3.2632e-02, -3.4501e-02, -5.5987e-03,\n",
      "          4.1900e-03,  6.4631e-04, -4.4314e-02, -4.9819e-02,  2.1470e-02,\n",
      "          1.3016e-02,  1.4301e-02,  1.8736e-02, -5.1866e-03,  1.5026e-02,\n",
      "         -2.1962e-05,  3.7323e-02, -4.4686e-02,  2.5535e-02, -1.6726e-02,\n",
      "          7.3110e-03,  4.8075e-05, -4.0819e-03, -1.7966e-03,  2.8757e-02,\n",
      "          5.1982e-02, -3.4868e-02,  2.4778e-02, -6.2329e-03, -1.9709e-02,\n",
      "         -2.1922e-02,  3.1252e-02,  1.3890e-02, -1.7581e-02,  3.5594e-02,\n",
      "          4.8341e-03,  2.7993e-03, -2.6515e-02, -1.4557e-02, -3.1771e-02,\n",
      "          4.0668e-02,  3.3960e-02,  1.6408e-02,  3.1031e-03, -1.5013e-02,\n",
      "         -9.6832e-03, -1.3780e-02, -3.2977e-02,  1.1426e-02, -4.0550e-03,\n",
      "         -2.4083e-03,  3.5824e-02, -4.9809e-02,  3.7798e-02,  1.7321e-02,\n",
      "          1.0082e-02,  5.8975e-02, -4.2596e-02,  3.6302e-02, -1.2863e-02,\n",
      "         -3.1070e-02,  1.3230e-03, -2.5990e-02, -1.7098e-02, -1.9114e-02,\n",
      "          6.7507e-03,  1.4090e-02,  2.7720e-02,  2.3714e-02, -1.8923e-02,\n",
      "         -2.0685e-02, -4.4664e-02, -1.6670e-02, -1.3620e-02,  1.5473e-02,\n",
      "         -4.4576e-03,  7.4261e-04, -3.9406e-03,  1.4170e-02, -2.6953e-03,\n",
      "         -2.6419e-02,  2.4067e-02,  4.7123e-02,  8.8113e-03,  1.7120e-02,\n",
      "          1.0671e-02, -2.4989e-03,  4.1720e-03, -3.7655e-02,  1.7643e-02,\n",
      "          1.0087e-02, -9.5763e-03, -2.1317e-02, -4.8866e-02, -1.9793e-02,\n",
      "          2.8578e-02,  1.2889e-02, -1.9376e-02,  4.6893e-02, -8.4309e-04,\n",
      "          1.6832e-03,  4.6231e-02]], grad_fn=<TanhBackward0>), hidden_states=None, past_key_values=None, attentions=None, cross_attentions=None)\n",
      "\n",
      "The last hidden state for the first token in the sequence (the first word embedding): \n",
      "tensor([[ 0.3608,  0.2862, -0.1549,  ..., -0.2064,  0.2663, -0.0109],\n",
      "        [ 0.0149,  0.7223, -0.0508,  ..., -0.5505,  0.2355, -0.2962],\n",
      "        [ 0.1531,  0.5903, -0.1244,  ..., -0.4263,  0.0417, -0.1839],\n",
      "        ...,\n",
      "        [ 0.1742, -0.1091, -0.1963,  ..., -0.6736,  0.0472, -0.1840],\n",
      "        [ 0.2434,  0.1021, -0.2241,  ..., -0.5400, -0.1691, -0.1314],\n",
      "        [ 0.0854,  0.3272, -0.3016,  ..., -0.2154, -0.5632, -0.1921]],\n",
      "       grad_fn=<SelectBackward0>)\n"
     ]
    }
   ],
   "source": [
    "model_outputs = model(ids_tensor)\n",
    "print('The complete model outputs: ')\n",
    "print(model_outputs)\n",
    "\n",
    "print()\n",
    "print('The last hidden state for the first token in the sequence (the first word embedding): ')\n",
    "embeddings = model_outputs['last_hidden_state'][0]\n",
    "print(embeddings)"
   ]
  },
  {
   "cell_type": "markdown",
   "id": "1cee4181-7518-484f-993d-f7abffcae010",
   "metadata": {},
   "source": [
    "We can retrieve the embedding vector for \"transform\" like this (\"transform\" is the second token in the sequence):"
   ]
  },
  {
   "cell_type": "code",
   "execution_count": 38,
   "id": "b3df76db-f81e-4916-b31d-34a8341a20db",
   "metadata": {},
   "outputs": [
    {
     "name": "stdout",
     "output_type": "stream",
     "text": [
      "[ 1.49147697e-02  7.22317696e-01 -5.07858247e-02 -2.74206161e-01\n",
      " -1.38932481e-01  1.00099695e+00  7.11505115e-03  2.71392018e-01\n",
      " -3.92812826e-02  6.04101568e-02  1.25740498e-01  4.60631430e-01\n",
      "  6.25268929e-03  1.61930606e-01  1.23912975e-01 -4.08096462e-01\n",
      "  1.24867812e-01 -4.71536398e-01  2.24768445e-01  6.35184646e-02\n",
      "  8.56178552e-02 -1.88044518e-01  1.77258164e-01  3.40050459e-01\n",
      " -1.95546225e-01  1.58553511e-01  9.62863863e-02  1.12649024e-01\n",
      "  2.21045852e-01 -9.56112742e-01 -3.85948181e-01  1.39220446e-01\n",
      "  5.90012670e-01 -8.06727409e-01 -1.34288177e-01  2.35691234e-01\n",
      " -1.02274969e-01  2.78302491e-01  7.94321775e-01 -2.49362767e-01\n",
      "  1.72771454e-01 -2.07582951e-01  3.00156057e-01 -8.59326720e-02\n",
      " -2.25285187e-01 -9.75407586e-02 -3.52348983e-01  3.81162286e-01\n",
      " -3.87680084e-01 -1.77613303e-01 -4.13685530e-01  1.38047144e-01\n",
      "  1.29877329e-02  6.52685225e-01  1.16503283e-01 -5.10779440e-01\n",
      " -8.30419064e-02 -2.67046690e-02  3.12863111e-01 -2.62847960e-01\n",
      " -1.43285111e-01  1.10270351e-01 -1.46889001e-01  8.40609819e-02\n",
      " -5.41600049e-01 -2.74971221e-02 -2.71180272e-01  3.61281693e-01\n",
      "  1.86117262e-01 -2.27870703e-01 -8.60133022e-02  4.15634662e-01\n",
      " -2.35571172e-02  2.90852755e-01 -4.29377288e-01  5.02851367e-01\n",
      "  4.46188718e-01 -3.45921546e-01 -1.07707553e-01  9.98833179e-02\n",
      "  4.75118160e-01  1.42710090e-01  6.47594035e-03  1.91739183e-02\n",
      "  4.32648242e-01 -7.28581771e-02  1.23886950e-01  4.31221813e-01\n",
      " -2.87044108e-01  8.61875176e-01 -3.77014965e-01 -2.96231747e-01\n",
      " -6.53619692e-02 -1.08727425e-01 -5.34367740e-01  2.30699107e-01\n",
      " -4.43284512e-02  8.28523561e-03 -4.80108738e-01  6.32629320e-02\n",
      "  3.46861780e-01 -1.00394264e-02  2.46483713e-01  1.04727969e-01\n",
      "  5.85361682e-02 -1.73107043e-01 -1.63396850e-01 -1.42521203e-01\n",
      " -1.41767532e-01  5.59849590e-02  2.56438792e-01 -3.92890662e-01\n",
      " -3.47414881e-01 -5.97775221e-01 -1.29222631e-01 -3.44479233e-01\n",
      "  7.78062940e-02  2.47691154e-01  3.36303025e-01 -1.69770211e-01\n",
      "  5.26932329e-02 -4.30812180e-01 -7.06476092e-01  2.43620947e-02\n",
      " -2.37541974e-01 -3.28975737e-01  1.46831840e-01  4.63140488e-01\n",
      " -7.27378502e-02  4.38395888e-02  4.04207967e-02 -3.49179469e-02\n",
      " -5.20076305e-02 -1.70057535e-01  3.05899680e-02  9.56188440e-02\n",
      "  1.73355961e+00  2.14067549e-01  6.37318790e-02  5.80559433e-01\n",
      " -9.82585102e-02 -4.88570690e-01  2.82071322e-01  2.64478415e-01\n",
      "  3.23805958e-01 -2.94938266e-01  1.32838696e-01 -3.09569258e-02\n",
      "  1.98950663e-01  1.01506226e-01  3.46358329e-01  4.12192911e-01\n",
      " -2.06010401e-01  1.38655692e-01  8.95754844e-02 -9.03496295e-02\n",
      "  1.60658583e-02  1.04298502e-01  5.76754630e-01  4.83327150e-01\n",
      "  1.27745569e-01 -4.36366424e-02  2.58014351e-01 -7.33286589e-02\n",
      " -3.81114095e-01 -4.86688092e-02  5.54442942e-01 -2.71802023e-02\n",
      " -3.28379899e-01  1.03766084e-01 -7.67532811e-02 -2.55299330e-01\n",
      " -4.58066404e-01 -6.74315691e-02 -5.92084527e-02 -5.33039793e-02\n",
      "  7.31045008e-01 -4.37695868e-02  1.48427427e-01 -6.68217301e-01\n",
      "  5.39263964e-01 -5.51166952e-01  3.07088882e-01 -2.95280814e-01\n",
      "  2.30029076e-01  4.45130557e-01  5.98997287e-02  3.32110226e-01\n",
      "  3.09372872e-01  7.49413133e-01  6.80033505e-01  2.81823099e-01\n",
      " -1.52892381e-01 -2.78220385e-01  1.57607138e-01 -3.44317518e-02\n",
      " -4.25325841e-01  3.65775108e-01 -6.05328940e-02 -2.44894564e-01\n",
      " -9.54138711e-02  2.14866325e-01  3.48824412e-02  4.22627091e-01\n",
      "  1.17061824e-01  1.53852493e-01  4.89413202e-01 -4.79477346e-02\n",
      " -4.35449600e-01  1.52307332e-01 -3.75602573e-01 -2.00069562e-01\n",
      " -4.52389657e-01 -9.23978761e-02  7.94968829e-02 -3.91880870e-01\n",
      "  2.03301698e-01  5.86735606e-01  1.18398182e-02 -3.49965036e-01\n",
      " -1.03533790e-02  1.67385608e-01  1.03552058e-01  1.20481811e-02\n",
      "  2.16728181e-01 -6.50192127e-02 -3.98291260e-01 -2.12185442e-01\n",
      "  1.36506259e-02 -5.55399537e-01 -2.92275071e-01  1.41718388e-01\n",
      "  5.35453439e-01  2.17891872e-01 -4.19899821e-01 -3.32854927e-01\n",
      "  3.76726240e-01 -3.19371045e-01 -3.27617228e-01  4.93491471e-01\n",
      "  1.59246445e-01  7.08295465e-01 -1.90098211e-01  5.06710947e-01\n",
      " -6.10249043e-01 -6.68386966e-02  1.14125752e+00  8.79676491e-02\n",
      " -1.85307771e-01 -1.45168006e-01  2.87572682e-01 -4.92560208e-01\n",
      "  3.61900218e-02  2.62837619e-01 -2.52178729e-01  6.15254045e-02\n",
      " -3.54109466e-01 -3.53945136e-01  1.98718101e-01  1.07959139e+00\n",
      "  1.29683328e+00  3.58778208e-01  6.75654769e-01  2.51169711e-01\n",
      " -5.65679610e-01 -4.81562108e-01  3.10950935e-01 -1.07663371e-01\n",
      " -3.67721945e-01  8.12472105e-02 -4.20883685e-01  5.78671575e-01\n",
      "  9.49736312e-02  1.65470123e-01  3.70411664e-01 -7.44692702e-03\n",
      "  4.63329166e-01 -2.38428399e-01  4.81726229e-02 -1.74411863e-01\n",
      "  8.61780792e-02 -1.35658294e-01  2.68294871e-01  2.98455566e-01\n",
      "  6.36236191e-01  2.79195726e-01 -1.57060191e-01 -2.91059583e-01\n",
      " -1.38483465e-01 -9.19544697e-02 -3.60317409e-01 -3.03814471e-01\n",
      "  2.38155380e-01  3.61209035e-01  1.53049976e-01  5.15779033e-02\n",
      " -1.36814266e-03  9.56994742e-02 -3.30190569e-01  3.86730373e-01\n",
      " -2.75556743e-01  3.30926836e-01 -2.23884165e-01 -4.71362323e-01\n",
      "  8.31372812e-02 -2.26590291e-01  2.15095848e-01  2.63797879e-01\n",
      "  3.72822702e-01 -5.50536513e-01  2.35452145e-01 -2.96163559e-01]\n",
      "The TinyBERT embeddings have 312 dimensions.\n"
     ]
    }
   ],
   "source": [
    "emb = embeddings[1]  # get second embedding in the sequence\n",
    "\n",
    "# convert it to a numpy array so we can perform various operations on it later on\n",
    "emb = emb.detach().numpy()\n",
    "\n",
    "print(emb)\n",
    "print(f'The TinyBERT embeddings have {emb.shape[0]} dimensions.')"
   ]
  },
  {
   "cell_type": "markdown",
   "id": "adc1d779-8ec7-462a-895b-e58a88d9bb63",
   "metadata": {},
   "source": [
    "Here we retrieve the embedding for \"architecture\"."
   ]
  },
  {
   "cell_type": "code",
   "execution_count": 39,
   "id": "827ca93a-d80d-4655-a417-6c6c6d1e07f7",
   "metadata": {},
   "outputs": [
    {
     "name": "stdout",
     "output_type": "stream",
     "text": [
      "[ 1.53095931e-01  5.90333402e-01 -1.24389745e-01 -1.52344584e-01\n",
      " -1.50733650e-01  9.45182383e-01  8.33654776e-02 -2.53275968e-02\n",
      "  3.34604550e-03 -5.66821918e-02  1.08500779e-01  3.36456835e-01\n",
      "  1.94329485e-01  1.39977738e-01 -1.16448477e-03 -3.17851335e-01\n",
      "  1.35712579e-01 -3.63934994e-01  2.86722660e-01  6.37838393e-02\n",
      "  1.10133767e-01 -1.33100495e-01  1.21274859e-01  2.69983977e-01\n",
      " -2.07514375e-01  2.41632104e-01  1.74404651e-01  9.52016562e-02\n",
      "  2.46267706e-01 -4.53010201e-01 -3.70885789e-01  2.27920219e-01\n",
      "  5.26750386e-01 -7.93769360e-01 -1.29065424e-01  3.42485130e-01\n",
      " -7.25852028e-02  1.48398936e-01  9.29528236e-01 -1.95573792e-02\n",
      "  1.74671739e-01 -2.60312200e-01  2.67400205e-01 -2.52537932e-02\n",
      " -2.44414568e-01 -6.59062788e-02 -3.49721700e-01  3.15456212e-01\n",
      " -3.61769289e-01 -2.38949716e-01 -2.53457814e-01  5.69549352e-02\n",
      " -2.64256448e-03  6.79622293e-01 -5.76044321e-02 -4.39989120e-01\n",
      "  1.26866534e-01 -8.14858973e-02  3.19382310e-01 -2.88918197e-01\n",
      " -6.20062277e-03  9.45396200e-02 -1.88935921e-01  1.07344955e-01\n",
      " -4.67776924e-01  4.03280854e-02 -3.06245089e-01  3.47621143e-01\n",
      "  1.78437889e-01 -3.18760931e-01 -1.30433202e-01  4.13974673e-01\n",
      " -4.78625298e-02  2.74291217e-01 -4.35032994e-01  5.66776216e-01\n",
      "  4.68338102e-01 -1.13652617e-01 -3.62843797e-02  1.68725759e-01\n",
      "  3.87520730e-01 -3.17655839e-02 -6.53427541e-02  9.41784158e-02\n",
      "  5.96579790e-01 -1.42251030e-01  1.41031101e-01  4.11406696e-01\n",
      " -2.97188014e-01  7.75391579e-01 -3.36184174e-01 -2.41301998e-01\n",
      "  8.22959989e-02 -1.15422100e-01 -4.44571704e-01  1.47474140e-01\n",
      "  4.56314906e-02 -1.05666041e-01 -4.08276409e-01  9.61619988e-02\n",
      "  2.92530328e-01  1.22453786e-01  2.86028117e-01  2.79943794e-01\n",
      " -6.15235642e-02 -1.31064132e-01 -1.22000337e-01 -8.63919109e-02\n",
      " -1.63268059e-01  4.70155850e-02  2.97181994e-01 -5.00183046e-01\n",
      " -2.85599530e-01 -5.71996450e-01 -6.05016090e-02 -3.75400066e-01\n",
      "  4.78387773e-02  2.34463885e-01  1.82822049e-01 -1.89359754e-01\n",
      "  6.27270564e-02  1.11040980e-01 -6.44965351e-01  6.33587241e-02\n",
      " -3.09721142e-01 -3.25690180e-01  1.15840212e-01  5.04376650e-01\n",
      " -8.08110386e-02  1.41841173e-02  9.71179307e-02 -6.91114366e-02\n",
      "  1.70264617e-02 -3.79135191e-01 -6.33868575e-02  1.70796782e-01\n",
      "  1.84125590e+00  2.15539977e-01  7.66079202e-02  4.44740623e-01\n",
      " -6.22222945e-02 -4.05373573e-01  2.32383683e-01  3.26132327e-01\n",
      "  3.15120488e-01 -2.42495134e-01  9.17334333e-02 -7.37512112e-03\n",
      "  1.96279496e-01  1.76256016e-01  3.16751540e-01  5.25734425e-01\n",
      " -3.02173734e-01  1.24751568e-01  1.15886495e-01 -8.84818286e-02\n",
      " -1.25222886e-03  1.94039464e-01  5.72610974e-01  4.37011600e-01\n",
      "  1.48085356e-01 -8.51987973e-02  1.85661480e-01 -1.98664829e-01\n",
      " -5.58031946e-02 -2.61052176e-02  4.21925575e-01 -2.42568552e-03\n",
      " -4.78640318e-01  5.16166538e-02 -1.34464741e-01 -1.17331073e-01\n",
      " -5.11617601e-01 -3.36860530e-02  4.11964208e-03 -1.93076566e-01\n",
      "  6.25819206e-01  1.09424870e-02  9.45971310e-02 -6.55026793e-01\n",
      "  5.32341182e-01 -5.54962873e-01 -2.21728813e-03 -3.47863376e-01\n",
      "  1.58155128e-01  3.33229005e-01  1.08539741e-02  3.62815619e-01\n",
      "  1.37104139e-01  6.77349031e-01  7.78429806e-01  2.76488721e-01\n",
      " -3.27109247e-02 -1.64295003e-01  1.29879475e-01 -5.67787625e-02\n",
      " -3.29875171e-01  3.18183810e-01  2.45680120e-02 -3.58507127e-01\n",
      " -1.68467611e-01 -3.69407609e-03  8.02155435e-02  3.57883573e-01\n",
      "  1.18279316e-01  1.34867489e-01  3.71350616e-01 -2.00376078e-01\n",
      " -3.13740462e-01  1.85268730e-01 -4.20407772e-01 -1.33282259e-01\n",
      " -4.44198430e-01 -1.61430016e-01  1.68595463e-02 -3.12585980e-01\n",
      "  8.43694657e-02  7.03928113e-01  4.00267839e-02 -3.42208803e-01\n",
      " -2.16280520e-02  2.03071207e-01  1.71259686e-01  1.78587604e-02\n",
      "  1.82622492e-01  1.60791911e-04 -3.45669717e-01 -2.09676221e-01\n",
      "  1.51687264e-02 -4.55060959e-01 -2.96153545e-01  3.06415558e-01\n",
      "  4.52828914e-01  5.36930114e-02 -4.12964284e-01 -3.28604162e-01\n",
      "  4.16745067e-01 -2.61441201e-01 -3.36797953e-01  4.95560110e-01\n",
      "  1.64040178e-01  8.73226404e-01 -6.19239807e-02  4.49736834e-01\n",
      " -5.36725581e-01 -9.55896527e-02  1.01511979e+00  1.36930704e-01\n",
      " -1.80231184e-01 -1.19031921e-01  2.74204195e-01 -5.04380643e-01\n",
      " -2.91867480e-02  2.06393063e-01 -2.37029821e-01 -4.69954610e-02\n",
      " -3.69433045e-01 -3.29310775e-01  1.01307228e-01  9.56652045e-01\n",
      "  1.14919996e+00  2.64836997e-01  5.45014501e-01  1.79920137e-01\n",
      " -5.46522200e-01 -4.97455031e-01  2.90156215e-01 -1.80473745e-01\n",
      " -4.15119946e-01  2.31184453e-01 -5.45562744e-01  4.25360739e-01\n",
      " -1.08438870e-03  9.95674804e-02  2.76298553e-01 -2.82697305e-02\n",
      "  2.44639382e-01 -2.82061994e-01  1.87752843e-01 -3.30449790e-01\n",
      " -2.20017731e-02 -1.26460418e-02  3.65371943e-01  2.04100177e-01\n",
      "  7.12807238e-01  2.43351981e-01 -1.58152096e-02 -1.77831709e-01\n",
      " -1.04830742e-01 -1.65069729e-01 -2.71399200e-01 -7.59008080e-02\n",
      "  2.20188111e-01  4.24302399e-01  6.30480126e-02  4.66223583e-02\n",
      " -2.32176557e-02  1.90855172e-02 -4.61103946e-01  3.63068670e-01\n",
      " -1.10887930e-01  4.28372741e-01 -1.71042889e-01 -4.50265437e-01\n",
      "  6.48395419e-02 -1.49543330e-01  1.68812901e-01  2.00994208e-01\n",
      "  2.59362310e-01 -4.26297158e-01  4.17009294e-02 -1.83851033e-01]\n"
     ]
    }
   ],
   "source": [
    "emb = embeddings[2]  # get second embedding in the sequence\n",
    "\n",
    "# convert it to a numpy array so we can perform various operations on it later on\n",
    "emb = emb.detach().numpy()\n",
    "\n",
    "print(emb)"
   ]
  },
  {
   "cell_type": "markdown",
   "id": "31c79402-f6b7-4fc3-9f47-50fcffccbe68",
   "metadata": {},
   "source": [
    "Sentences and documents usually have varying lengths. So, to put multiple sentences into a single tensor, we need to pad the sequences up to a maximum length. Luckily, the tokenizer class takes care of this for us. When we pass in a list of sentences, the tokenizer creates a matrix, where each row is a sequence of the same length:"
   ]
  },
  {
   "cell_type": "code",
   "execution_count": 40,
   "id": "c03abaed-6738-44ab-a7dd-7775743f99ba",
   "metadata": {},
   "outputs": [
    {
     "name": "stderr",
     "output_type": "stream",
     "text": [
      "Asking to truncate to max_length but no maximum length is provided and the model has no predefined maximum length. Default to no truncation.\n"
     ]
    },
    {
     "name": "stdout",
     "output_type": "stream",
     "text": [
      "{'input_ids': tensor([[  101,  1045,  2064,  2338,  9735,  2005,  1996,  4164,  2279,  2733,\n",
      "          1012,   102,     0,     0,     0,     0,     0,     0],\n",
      "        [  101,  2116,  8141,  2424,  1996,  2034,  2338,  1997,  1037,  6925,\n",
      "          1997,  2048,  3655,  2000,  2022, 16801,  1012,   102],\n",
      "        [  101,  2016,  2441,  1996,  2338,  2000,  3931,  4261,  1998,  2211,\n",
      "          2000,  3191, 12575,  1012,   102,     0,     0,     0],\n",
      "        [  101,  1996,  2610,  2359,  2000,  2338,  2032,  2005,  4439,  2205,\n",
      "          3435,  1012,   102,     0,     0,     0,     0,     0],\n",
      "        [  101,  1045,  2064,  3914,  9735,  2005,  1996,  4164,  2279,  2733,\n",
      "          1012,   102,     0,     0,     0,     0,     0,     0]]), 'token_type_ids': tensor([[0, 0, 0, 0, 0, 0, 0, 0, 0, 0, 0, 0, 0, 0, 0, 0, 0, 0],\n",
      "        [0, 0, 0, 0, 0, 0, 0, 0, 0, 0, 0, 0, 0, 0, 0, 0, 0, 0],\n",
      "        [0, 0, 0, 0, 0, 0, 0, 0, 0, 0, 0, 0, 0, 0, 0, 0, 0, 0],\n",
      "        [0, 0, 0, 0, 0, 0, 0, 0, 0, 0, 0, 0, 0, 0, 0, 0, 0, 0],\n",
      "        [0, 0, 0, 0, 0, 0, 0, 0, 0, 0, 0, 0, 0, 0, 0, 0, 0, 0]]), 'attention_mask': tensor([[1, 1, 1, 1, 1, 1, 1, 1, 1, 1, 1, 1, 0, 0, 0, 0, 0, 0],\n",
      "        [1, 1, 1, 1, 1, 1, 1, 1, 1, 1, 1, 1, 1, 1, 1, 1, 1, 1],\n",
      "        [1, 1, 1, 1, 1, 1, 1, 1, 1, 1, 1, 1, 1, 1, 1, 0, 0, 0],\n",
      "        [1, 1, 1, 1, 1, 1, 1, 1, 1, 1, 1, 1, 1, 0, 0, 0, 0, 0],\n",
      "        [1, 1, 1, 1, 1, 1, 1, 1, 1, 1, 1, 1, 0, 0, 0, 0, 0, 0]])}\n"
     ]
    }
   ],
   "source": [
    "sentences = [\n",
    "    \"I can book tickets for the concert next week.\",\n",
    "    \"Many readers find the first book of A Tale of Two Cities to be confusing.\",\n",
    "    \"She opened the book to page 37 and began to read aloud.\",\n",
    "    \"The police wanted to book him for driving too fast.\",\n",
    "    \"I can reserve tickets for the concert next week.\"\n",
    "]\n",
    "\n",
    "model_inputs = tokenizer(sentences, padding=True, truncation=True, return_tensors=\"pt\")  \n",
    "\n",
    "print(model_inputs)"
   ]
  },
  {
   "cell_type": "markdown",
   "id": "a59a44fc-218e-462d-86ef-fee203417bb6",
   "metadata": {},
   "source": [
    "`model_inputs` is a dictionary containing three objects:\n",
    " * The `input_ids` are the list of token IDs in the input sequences. \n",
    " * The `attention_mask` records which tokens are special padding tokens and which are real tokens. Tokens with a 0 in the attention mask will be ignored.\n",
    " * `token_type_ids` is needed when two sequences are passed together as input to the model for tasks such as next sentence prediction that involve comparing two sentences. Here, each input is a single sentence, so we have only one type of token in the output above. \n",
    " \n",
    "0 is used to represent the special padding token.\n",
    "\n",
    "Notice that the input_ids all start with the same token ID, 101, even though they have different first words. They also have token ID 102 before the padding tokens. This is because the tokenizer inserts two special tokens, which are used in some applicaions of BERT. 101 is the '[CLS]' token, which is a dummy token whose embedding can be trained to represent the whole sequence. the [CLS] token's embedding can then be used as input to a text classifier to classify a sentence or document. Token 102 is '[SEP]', which can be used to separate multiple input sequences in a single example. This is needed in tasks where multiple pieces of text are provided as input, e.g., a to build a classifier that can determine whether two sentences contradict each other. \n",
    "\n",
    "We can now pass all of the model inputs to the model to produce a set of contextualised embeddings:"
   ]
  },
  {
   "cell_type": "code",
   "execution_count": 41,
   "id": "b888b7cf-54d1-450b-9431-e64629177d93",
   "metadata": {},
   "outputs": [],
   "source": [
    "# model_inputs is a dictionary, so to provide the arguments to model(), \n",
    "# we use the double star to unpack the dictionary so that each key in the dictionary is\n",
    "# an argument to model() and each value is the value of the argument. \n",
    "model_outputs = model(**model_inputs) "
   ]
  },
  {
   "cell_type": "markdown",
   "id": "84a8eb74-ce63-459c-9fb3-05fd2768ddf8",
   "metadata": {},
   "source": [
    "The first four example sentences above all contain the word \"book\", and the last example contains \"reserve\". We can obtain a list of contextualised word embeddings for 'book' and 'reserve' in the example sentences using our model."
   ]
  },
  {
   "cell_type": "code",
   "execution_count": 42,
   "id": "5f0297da-4106-41ef-8f61-5aa3fbb2cc1d",
   "metadata": {},
   "outputs": [],
   "source": [
    "# 2338 \n",
    "# function to get an embedding for a given word in a given sentence\n",
    "def get_pos_embedding(sentence, position):\n",
    "    sentence_word_embeddings = model_outputs['last_hidden_state'][sentence]\n",
    "    word_emb = sentence_word_embeddings[position]\n",
    "    word_emb = word_emb.detach().numpy()\n",
    "    return word_emb\n",
    "\n",
    "book_embeddings = []\n",
    "reserve_embeddings = []\n",
    "\n",
    "book_embeddings.append(get_pos_embedding(0, 3))\n",
    "book_embeddings.append(get_pos_embedding(1, 6))\n",
    "book_embeddings.append(get_pos_embedding(2, 4))\n",
    "book_embeddings.append(get_pos_embedding(3, 5))\n",
    "\n",
    "reserve_embeddings.append(get_pos_embedding(4, 3))\n"
   ]
  },
  {
   "cell_type": "markdown",
   "id": "5ac47b72-46a3-40ee-b081-bca17da0b49b",
   "metadata": {},
   "source": [
    "Here we compute the similarities between these embeddings in the cell below, and show the results. We can explore how the embeddings relate to the meaning of the word \"book\" or \"reserve\" in each sentence.\n",
    "\n",
    "From the generated plots shown below we can gain significant insight into the relationships between the different uses of the word book as how these a similar to the work ‘reserve’\n",
    "\n",
    "- Sentence 0: \"I can book tickets for the concert next week.\"\n",
    "    - Has the greatest similarity with the use of the ‘book’ in sentence 2 with 0.63 cosine similarity.\n",
    "    - Is is least similar to the use of the word ‘book’ in sentence 1 but has a similar similarity across all other sentences using book with 0.58 cosine similarity.\n",
    "    - This is the most similar use of ‘book’, in the examples, to the use of the word ‘reserve’ in sentence 4  showing they have the most similar meaning with 0.74 cosine similarity.\n",
    "    - This use of ‘book’ is more similar to the demonstrated use of the word ‘reserve’ than it is to all other examples of use of the word ‘book’\n",
    "- Sentence 1: \"Many readers find the first book of A Tale of Two Cities to be confusing.\"\n",
    "    - Is not very similar to the use of the word ‘reserve’ in the example, with only 0.29 cosine similarity.\n",
    "    - It has a high cosine similarity of 0.75 with the use of the word ‘book’ in sentence 2. \n",
    "    - It is least similar to the use of the word book in sentence 1 with 0.58 cosine similarity. \n",
    "- Sentence 2: “She opened the book to page 37 and began to read aloud.\"\n",
    "    - Is not very similar to the use of the word ‘reserve’ in the example, with 0.29 cosine similarity.\n",
    "    - It has a high cosine similarity of 0.75 with the use of the word ‘book’ in sentence 1. \n",
    "    - It is least similar to the use of the word book in sentence 3 with 0.44 cosine similarity. \n",
    "- Sentence 3: “The police wanted to book him for driving too fast.\"\n",
    "    - Is somewhat similar to the example use of the word ‘reserve’ with cosine similarity of 0.5\n",
    "    - It is most similar to the use of ‘book; in sentence 0 which is interesting because that is similar to the use of the word ‘reserve’ \n",
    "    - It is least similar to the use of the work ‘book’ in sentence 2. \n"
   ]
  },
  {
   "cell_type": "code",
   "execution_count": 43,
   "id": "c5a9c5c1-b6b2-4df4-8729-0f0615b5e161",
   "metadata": {},
   "outputs": [
    {
     "data": {
      "image/png": "[encoded data removed]",
      "text/plain": [
       "<Figure size 640x480 with 2 Axes>"
      ]
     },
     "metadata": {},
     "output_type": "display_data"
    },
    {
     "data": {
      "image/png": "[encoded data removed]",
      "text/plain": [
       "<Figure size 640x480 with 2 Axes>"
      ]
     },
     "metadata": {},
     "output_type": "display_data"
    }
   ],
   "source": [
    "from scipy.spatial.distance import cdist  # you may find this function useful for computing distances\n",
    "\n",
    "# computing the pairwise distance matrix\n",
    "book_similarities = cdist(book_embeddings, book_embeddings, metric='cosine')\n",
    "# for the scipy.spatial.distance calculation a smaller values indicates greater similarity, this is reversed by subtracting the similarities from 1. \n",
    "book_similarities = 1 - book_similarities\n",
    "\n",
    "reserve_book_similarities = cdist(reserve_embeddings, book_embeddings, metric='cosine')\n",
    "reserve_book_similarities = 1 - reserve_book_similarities\n",
    "\n",
    "\n",
    "import matplotlib.pyplot as plt\n",
    "\n",
    "\n",
    "def plot_similarity(similarity_matrix, title):\n",
    "    fig, ax = plt.subplots()\n",
    "    cax = ax.imshow(similarity_matrix, cmap='Blues')\n",
    "\n",
    "    # legend\n",
    "    fig.colorbar(cax)\n",
    "\n",
    "    # show the value lables \n",
    "    for i in range(similarity_matrix.shape[0]):\n",
    "        for j in range(similarity_matrix.shape[1]):\n",
    "            text = ax.text(j, i, np.around(similarity_matrix[i, j], decimals=2),\n",
    "                        ha=\"center\", va=\"center\", color=\"black\")\n",
    "\n",
    "\n",
    "    ax.set_title(title)\n",
    "\n",
    "    # configuring the x and y axis\n",
    "    x_labels = []\n",
    "    for i in range(similarity_matrix.shape[1]):\n",
    "        x_labels.append(i)\n",
    "    \n",
    "    y_labels = []\n",
    "    for i in range(similarity_matrix.shape[0]):\n",
    "        y_labels.append(i)\n",
    "    \n",
    "    ax.set_xticks(np.arange(len(x_labels)))\n",
    "    ax.set_yticks(np.arange(len(y_labels)))\n",
    "    ax.set_xticklabels(x_labels)\n",
    "    ax.set_yticklabels(y_labels)\n",
    "\n",
    "    ax.set_xlabel('Example sentence number')\n",
    "    ax.set_ylabel('Example sentence number')\n",
    "\n",
    "    # show the plot\n",
    "    plt.show()\n",
    "\n",
    "plot_similarity(book_similarities, \"'book' word embedding similaritys for different sentences\")\n",
    "plot_similarity(reserve_book_similarities, \"Similarity between 'reserve' and 'book' for different sentences\")"
   ]
  },
  {
   "cell_type": "markdown",
   "id": "680d6407-24ea-41f5-a16e-d03fe15aa124",
   "metadata": {},
   "source": [
    "Here we use the BERT model to obtain an embedding of each complete sentence from the five sentences listed above.\n",
    "\n",
    "- Sentence 0: \"I can book tickets for the concert next week.\"\n",
    "    - Is most similar to sentence 4, with a cosine similarity of 0.98, this is really close, which makes sense as they only differ by one word and have very simillar semantic meaning. \n",
    "    - Is least similar to sentence 1 with cosine similarity of 0.58, still showing that they are some what similar which is intersting as they have quite a differnt semantic meaning.\n",
    "- Sentence 1: \"Many readers find the first book of A Tale of Two Cities to be confusing.\"\n",
    "    - This is most similar to sentence 2, with a cosine similarity of 0.69, this is logical as from reasding each of the sentences  they do have a similar meaning. \n",
    "    - This is least similar to sentence 4 , with a cosine similarity of 0.56.\n",
    "- Sentence 2: “She opened the book to page 37 and began to read aloud.\"\n",
    "    - Most similar to sentence 0, with cosine similarity of 0.63.\n",
    "    - Least similar to sentence 3, with cosine similarity of 0.54.\n",
    "- Sentence 3: “The police wanted to book him for driving too fast.\"\n",
    "    - Most similar equally to sentence 0 and 4, with cosine similarity of 0.65. This is logical as we know sentences 0 and 1 have very simillar meaning. This is the same meaning of the use book that is similar to the word reserve.\n",
    "    - Least similar to sentence 2, with cosine similarity of 0.54.\n",
    "- Sentence 4: \"I can reserve tickets for the concert next week.\"\n",
    "    - Most similar to sentence 0, with cosine similarity of 0.98.\n",
    "    - Least similar to sentence 1, with cosine similarity of 0.56."
   ]
  },
  {
   "cell_type": "code",
   "execution_count": 44,
   "id": "32808677-1efb-49aa-a384-cd8ca1632d0c",
   "metadata": {},
   "outputs": [
    {
     "data": {
      "image/png": "[encoded data removed]",
      "text/plain": [
       "<Figure size 640x480 with 2 Axes>"
      ]
     },
     "metadata": {},
     "output_type": "display_data"
    }
   ],
   "source": [
    "sentence_word_embeddings = []\n",
    "\n",
    "def get_sentence_embedding(sentence):\n",
    "    sentence_word_embedding = model_outputs['last_hidden_state'][sentence]\n",
    "\n",
    "    # a mean is calculated over each word embedding to create an embedding value for the whole sentence\n",
    "    sentence_embedding = sentence_word_embedding.mean(dim=0)\n",
    "    \n",
    "    sentence_embedding = sentence_embedding.detach().numpy()\n",
    "    return sentence_embedding\n",
    "\n",
    "for i in range(len(sentences)):\n",
    "    sentence_word_embeddings.append(get_sentence_embedding(i))\n",
    "\n",
    "\n",
    "# computing the pairwise distance matrix\n",
    "sentence_similarities = cdist(sentence_word_embeddings, sentence_word_embeddings, metric='cosine')\n",
    "# for the scipy.spatial.distance calculation a smaller values indicates greater similarity, this is reversed by subtracting the similarities from 1. \n",
    "sentence_similarities = 1 - sentence_similarities\n",
    "\n",
    "plot_similarity(sentence_similarities, \"Entire sentence embedding similaritys for different example sentences\")"
   ]
  },
  {
   "cell_type": "markdown",
   "id": "c768029d-395e-4eb9-ac1b-7c72e81dcd01",
   "metadata": {},
   "source": [
    "# 5. Question Answering with Pretrained Transformers\n",
    "\n",
    "The previous section showed us how to obtain a sequence of contextualised word embeddings using a pretrained transformer. How are these embeddings used to extract answers from documents to a given question?\n",
    "\n",
    "First, let's load up the [Tweet QA](https://huggingface.co/datasets/tweet_qa) dataset, which we will use to test a pretrained question answering (QA) model. This dataset contains tweets along with questions about the information in the tweets, and a list of correct answers. As we are not going to train our own QA model (it requires a lot of compute time), we will only need the validation set:"
   ]
  },
  {
   "cell_type": "code",
   "execution_count": 45,
   "id": "5bdc0e14-0241-44f7-97f1-745a33312700",
   "metadata": {},
   "outputs": [
    {
     "name": "stdout",
     "output_type": "stream",
     "text": [
      "Validation dataset with 10570 instances loaded\n"
     ]
    }
   ],
   "source": [
    "from sklearn.metrics import f1_score\n",
    "\n",
    "val_dataset = load_dataset(\n",
    "    \"squad\",\n",
    "    split=\"validation\",\n",
    "    cache_dir=cache_dir\n",
    ")\n",
    "print(f\"Validation dataset with {len(val_dataset)} instances loaded\")"
   ]
  },
  {
   "cell_type": "markdown",
   "id": "1e2f2f2c-8f39-49b0-8391-33773171c5a9",
   "metadata": {},
   "source": [
    "Now we are working with complete dataset using the HuggingFace datasets library. In the next cell, we create a tokenizer to tokenize the examples in the dataset. We need to choose the right tokenizer for the QA model we want to use, so let's decide to use `\"distilbert-base-cased-distilled-squad\"` as our pretrained model. This is based on a smaller version of BERT, called Distilbert, which was fine-tuned on the SQUAD question answering dataset."
   ]
  },
  {
   "cell_type": "code",
   "execution_count": 46,
   "id": "1993c3b2-3454-4cd2-81ed-020342ca3246",
   "metadata": {},
   "outputs": [],
   "source": [
    "from transformers import AutoTokenizer\n",
    "\n",
    "tokenizer = AutoTokenizer.from_pretrained(\"distilbert-base-cased-distilled-squad\") \n",
    "\n",
    "def tokenize_function(dataset):\n",
    "    # Pass two strings to the tokenizer -- it will concatenate them with a [SEP] special token between them. \n",
    "    model_inputs = tokenizer(dataset['question'], dataset['context'], padding=\"max_length\", max_length=200, truncation='only_second')\n",
    "    return model_inputs"
   ]
  },
  {
   "cell_type": "markdown",
   "id": "73fb870b-1812-413a-be0c-c4868b441fe8",
   "metadata": {},
   "source": [
    "Again, we can use the `map()` method to apply the tokenizer to each example in the dataset. "
   ]
  },
  {
   "cell_type": "code",
   "execution_count": 47,
   "id": "617d4300-3994-44a4-8e14-d1835bfbc2a3",
   "metadata": {},
   "outputs": [],
   "source": [
    "val_dataset = val_dataset.map(tokenize_function, batched=True) "
   ]
  },
  {
   "cell_type": "markdown",
   "id": "510ccaf0-fc74-405b-b72f-f03328d6622a",
   "metadata": {
    "tags": []
   },
   "source": [
    "The type of QA model we are going to work with is _extractive_, meaning that the model will extract the answer from the 'context' (also known as the 'passage' or 'source document'). It does this by identifying the index of the start and end tokens of the answer span within the context, or returning `(0, 0)` (the index 0 for both the start and end token) if the context does not contain an answer to the given question. \n",
    "\n",
    "As explained in the lectures, BERT forms the basis of the QA model, and maps each token to a contextualised embedding. The QA model then maps each token's contextualised embedding to the probability that the token is the start of the answer span, and to the probability that the token is the end of the answer span. The layers that map the embeddings to the start and end probabilities are known as the 'head' of the model. [The original BERT paper](https://arxiv.org/pdf/1810.04805.pdf) depicts the QA model like this (Devlin et al., 2018):\n",
    "\n",
    "<img src=\"bert_qa.png\" alt=\"BERT QA diagram from the slides in week 10 showing the embedding of each token connected to the start and end output layers\" width=\"400px\"/>\n",
    "\n",
    "We can see a similar structure in most neural network models. Our original text classifier from the first notebook used a fully-connected layer to produce a hidden representation of the whole sentence (rather than using BERT to produce a sequence of embeddings). This hidden representation was then fed to an output layer to produce a probability distribution over class labels (rather than the start and end probabilities):\n",
    "\n",
    "<img src=\"neural_text_classifier_smaller.png\" alt=\"Neural text classifier diagram from the slides in lecture 8.1\" width=\"400px\"/>\n",
    "\n",
    "\n",
    "<!--With transformers, \n",
    "we can do something very similar, by connecting the transfomer's output to a fully-connected layer. However, with BERT, we do not need to pass the embedding of each individual word to the fully-connected layer because there is a special [CLS] token that represents the whole sentence:\n",
    "\n",
    "The code below shows how to access a tensor containing the [CLS] embeddings:-->"
   ]
  },
  {
   "cell_type": "markdown",
   "id": "2dff251c-ccd2-4e0c-ab2b-a1bd1cc38101",
   "metadata": {},
   "source": [
    "Now, we have the dataset in the right format, let's see how to load a pretrained QA model based on a pretrained transformer. The QA model was trained by taking a pretrained BERT model (pretrained on masked language modelling with unlabelled text), adding the QA head, then further training the complete model on a QA dataset. \n",
    "\n",
    "The transformers library provides some useful wrapper classes for loading pretrained models for various NLP tasks, such as QA or text classification. These 'auto' classes are documented here: https://huggingface.co/docs/transformers/model_doc/auto . Let's use an auto class to load the `\"distilbert-base-cased-distilled-squad\"` pretrained QA model (this code will try to reload the model from a cache or download the model from HuggingFace):"
   ]
  },
  {
   "cell_type": "code",
   "execution_count": 48,
   "id": "46229f2c-86f0-4150-9b1d-72b0df714ae3",
   "metadata": {},
   "outputs": [],
   "source": [
    "from transformers import AutoModelForQuestionAnswering\n",
    "\n",
    "model = AutoModelForQuestionAnswering.from_pretrained(\"distilbert-base-cased-distilled-squad\")"
   ]
  },
  {
   "cell_type": "markdown",
   "id": "2e3b470e-d580-492f-807e-466cd2193ab3",
   "metadata": {},
   "source": [
    "As our model was pretrained, we can use it directly on our Tweet_QA dataset (you may see a message to this effect when you run the cell above the first time). \n",
    "\n",
    "So, how do we get a prediction from the model? Let's take a single example from Tweet_QA and obtain the start and end probabilities for all tokens in the 'context':"
   ]
  },
  {
   "cell_type": "code",
   "execution_count": 49,
   "id": "ef26c556-7230-40b3-a06a-0e823556415b",
   "metadata": {},
   "outputs": [],
   "source": [
    "def predict_nn(qa_model, dataset):\n",
    "    \n",
    "    # Switch off dropout\n",
    "    qa_model.eval()\n",
    "\n",
    "    # Pass the required inputs from the dataset to the model    \n",
    "    output = qa_model(attention_mask=torch.tensor(dataset[\"attention_mask\"]), input_ids=torch.tensor(dataset[\"input_ids\"]))\n",
    "        \n",
    "    # the output dictionary contains logits, which are the unnormalised scores for each class for each example:\n",
    "    probs_start = torch.nn.Softmax(dim=1)(output[\"start_logits\"]).detach().numpy()\n",
    "    probs_end = torch.nn.Softmax(dim=1)(output[\"end_logits\"]).detach().numpy()\n",
    "        \n",
    "    return probs_start, probs_end\n",
    "\n",
    "# Run the prediction function to get the results for the first 20 examples:\n",
    "probs_start, probs_end = predict_nn(model, val_dataset[0:20])"
   ]
  },
  {
   "cell_type": "markdown",
   "id": "6ad86be8-d404-43ea-a341-8e46603478f8",
   "metadata": {},
   "source": [
    "Now that we have the probabilities that each token is a start or end token, we combine these probabilities to estimate the probability of each possible answer span. This will allow us to choose the answer span with highest probability. \n",
    "\n",
    "In the next cell is our first attempt, which we will need to improve to get valid answers. This code loops through each possible combination of start and end tokens, obtains the start and end probabilities, and extracts the answer text for the corresponding span.\n",
    "\n",
    "Here we use the start and end probabilities to compute the answer span probability at the place marked inside the predict_answer() function below."
   ]
  },
  {
   "cell_type": "code",
   "execution_count": 50,
   "id": "660f8ada-810d-4764-b0c2-ac7b291ed9dd",
   "metadata": {},
   "outputs": [
    {
     "name": "stdout",
     "output_type": "stream",
     "text": [
      "CONTEXT = Super Bowl 50 was an American football game to determine the champion of the National Football League (NFL) for the 2015 season. The American Football Conference (AFC) champion Denver Broncos defeated the National Football Conference (NFC) champion Carolina Panthers 24–10 to earn their third Super Bowl title. The game was played on February 7, 2016, at Levi's Stadium in the San Francisco Bay Area at Santa Clara, California. As this was the 50th Super Bowl, the league emphasized the \"golden anniversary\" with various gold-themed initiatives, as well as temporarily suspending the tradition of naming each Super Bowl game with Roman numerals (under which the game would have been known as \"Super Bowl L\"), so that the logo could prominently feature the Arabic numerals 50.\n",
      "QUESTION = Which NFL team won Super Bowl 50?\n",
      "LIST OF POSSIBLE ANSWERS = {'text': ['Denver Broncos', 'Denver Broncos', 'Denver Broncos'], 'answer_start': [177, 177, 177]}\n"
     ]
    }
   ],
   "source": [
    "# our example:\n",
    "example_index = 3\n",
    "\n",
    "example = val_dataset[example_index]\n",
    "print(f'CONTEXT = {example[\"context\"]}')\n",
    "print(f'QUESTION = {example[\"question\"]}')\n",
    "print(f'LIST OF POSSIBLE ANSWERS = {example[\"answers\"]}')"
   ]
  },
  {
   "cell_type": "code",
   "execution_count": 51,
   "id": "22088d8f-ac0a-43b5-9f7e-1a71feec8f40",
   "metadata": {},
   "outputs": [
    {
     "name": "stdout",
     "output_type": "stream",
     "text": [
      "Span prob = 0.3756330609321594, answer = Carolina Panthers\n",
      "Span prob = 0.286510169506073, answer = \n",
      "Span prob = 0.18759368360042572, answer = Denver Broncos defeated the National Football Conference ( NFC ) champion Carolina Panthers\n",
      "Span prob = 0.14308509230613708, answer = Denver Broncos\n",
      "Span prob = 0.0011476663639768958, answer = Broncos defeated the National Football Conference ( NFC ) champion Carolina Panthers\n",
      "Span prob = 0.0010500344214960933, answer = Panthers\n",
      "Span prob = 0.0008753704023547471, answer = Broncos\n",
      "Span prob = 0.0008009026641957462, answer = \n",
      "Span prob = 0.00038522674003615975, answer = The American Football Conference ( AFC ) champion Denver Broncos defeated the National Football Conference ( NFC ) champion Carolina Panthers\n",
      "Span prob = 0.00029382764478214085, answer = The American Football Conference ( AFC ) champion Denver Broncos\n",
      "Span prob = 0.0002778444322757423, answer = \n",
      "Span prob = 0.00018871514475904405, answer = American Football Conference ( AFC ) champion Denver Broncos defeated the National Football Conference ( NFC ) champion Carolina Panthers\n",
      "Span prob = 0.0001818591117626056, answer = Carolina\n",
      "Span prob = 0.00014394048776011914, answer = American Football Conference ( AFC ) champion Denver Broncos\n",
      "Span prob = 0.0001387573720421642, answer = Denver\n",
      "Span prob = 0.00013593379117082804, answer = National Football Conference ( NFC ) champion Carolina Panthers\n",
      "Span prob = 0.00010368206858402118, answer = \n",
      "Span prob = 0.00010127583664143458, answer = Carolina Panthers 24 – 10 to earn their third Super Bowl title.\n",
      "Span prob = 9.863248124020174e-05, answer = \n",
      "Span prob = 9.082166070584208e-05, answer = Denver Broncos defeated the National Football Conference ( NFC ) champion Carolina\n"
     ]
    }
   ],
   "source": [
    "def predict_answer(probs_start, probs_end, input_ids, tokenizer):\n",
    "    \n",
    "    input_length = len(input_ids)  # length of the input sequence, in the form \"[CLS] question [SEP] context\"\n",
    "\n",
    "    SEP_SPECIAL_TOKEN = 102  # the input id for the sep special token the separates the question from the context. The context starts after this token. \n",
    "    PAD_SPECIAL_TOKEN = 0  # the input id for padding tokens added to the end of the context\n",
    "    \n",
    "    span_probabilities = []  # save the probabilities here\n",
    "    spans = []  # save the possible answer spans here\n",
    "    \n",
    "    for start_idx in range(0, input_length):\n",
    "        for end_idx in range(0, input_length):\n",
    "            \n",
    "            start_prob = probs_start[start_idx]\n",
    "            end_prob = probs_end[end_idx]\n",
    "            \n",
    "            ### WRITE YOUR ANSWER HERE\n",
    "\n",
    "            # the probability of the span is the start probabilities times the end probabilities, this esitmates the joint probability ig starting at i and ending at j\n",
    "            span_prob = start_prob * end_prob\n",
    "            span_probabilities.append(span_prob)\n",
    "\n",
    "\n",
    "            ###\n",
    "            \n",
    "            span = tokenizer.decode(input_ids[start_idx:end_idx+1])\n",
    "            spans.append(span)\n",
    "\n",
    "    # sort the spans according to probability:\n",
    "    sorted_span_index = np.argsort(span_probabilities)\n",
    "    \n",
    "    # print the top 20 answers:\n",
    "    for i in range(20):\n",
    "        print(f'Span prob = {span_probabilities[sorted_span_index[-i-1]]}, answer = {spans[sorted_span_index[-i-1]]}')\n",
    "            \n",
    "predict_answer(probs_start[example_index], probs_end[example_index], example['input_ids'], tokenizer)"
   ]
  },
  {
   "cell_type": "markdown",
   "id": "00db2d3b-9896-45dd-9c12-118e957bdb76",
   "metadata": {},
   "source": [
    "To improve the predict_answer() function, the range that is iterated over can be modified. Currently this approach checks over the entire input length range for both start and end idx. Due to the format of a SQuAD dataset interating over the entire range means that parts of the question can be given in the answer which would be invalid. As well as this because the end_idx can be less than the start_idx some invalid spans presenting as blank answers can be returned. By making sure we start only after the [SEP] token in the start_idx range means we only consider the context (not the question). Modifying the end_idx iteration range by only starting at the start_idx ensures the end_idx cannot be less than the start_idx.\n",
    "\n"
   ]
  },
  {
   "cell_type": "code",
   "execution_count": 52,
   "id": "aae6c6d1-e3a4-4d3c-ba54-6e9e9b3d58bf",
   "metadata": {},
   "outputs": [
    {
     "name": "stdout",
     "output_type": "stream",
     "text": [
      "Span prob = 0.3756330609321594, answer = Carolina Panthers\n",
      "Span prob = 0.18759368360042572, answer = Denver Broncos defeated the National Football Conference ( NFC ) champion Carolina Panthers\n",
      "Span prob = 0.14308509230613708, answer = Denver Broncos\n",
      "Span prob = 0.0011476663639768958, answer = Broncos defeated the National Football Conference ( NFC ) champion Carolina Panthers\n",
      "Span prob = 0.0010500344214960933, answer = Panthers\n",
      "Span prob = 0.0008753704023547471, answer = Broncos\n",
      "Span prob = 0.00038522674003615975, answer = The American Football Conference ( AFC ) champion Denver Broncos defeated the National Football Conference ( NFC ) champion Carolina Panthers\n",
      "Span prob = 0.00029382764478214085, answer = The American Football Conference ( AFC ) champion Denver Broncos\n",
      "Span prob = 0.00018871514475904405, answer = American Football Conference ( AFC ) champion Denver Broncos defeated the National Football Conference ( NFC ) champion Carolina Panthers\n",
      "Span prob = 0.0001818591117626056, answer = Carolina\n",
      "Span prob = 0.00014394048776011914, answer = American Football Conference ( AFC ) champion Denver Broncos\n",
      "Span prob = 0.0001387573720421642, answer = Denver\n",
      "Span prob = 0.00013593379117082804, answer = National Football Conference ( NFC ) champion Carolina Panthers\n",
      "Span prob = 0.00010127583664143458, answer = Carolina Panthers 24 – 10 to earn their third Super Bowl title.\n",
      "Span prob = 9.082166070584208e-05, answer = Denver Broncos defeated the National Football Conference ( NFC ) champion Carolina\n",
      "Span prob = 7.556726632174104e-05, answer = Carolina Panthers 24 – 10 to earn their third Super Bowl title\n",
      "Span prob = 5.512203642865643e-05, answer = Carolina Panthers 24 – 10\n",
      "Span prob = 5.057783346273936e-05, answer = Denver Broncos defeated the National Football Conference ( NFC ) champion Carolina Panthers 24 – 10 to earn their third Super Bowl title.\n",
      "Span prob = 4.92577237309888e-05, answer = Denver Broncos defeated the National Football Conference\n",
      "Span prob = 3.7738798710051924e-05, answer = Denver Broncos defeated the National Football Conference ( NFC ) champion Carolina Panthers 24 – 10 to earn their third Super Bowl title\n"
     ]
    }
   ],
   "source": [
    "def predict_answer(probs_start, probs_end, input_ids, tokenizer):\n",
    "    \n",
    "    input_length = len(input_ids)  # length of the input sequence, in the form \"[CLS] question [SEP] context\"\n",
    "\n",
    "    SEP_SPECIAL_TOKEN = 102  # the input id for the sep special token the separates the question from the context. The context starts after this token. \n",
    "    PAD_SPECIAL_TOKEN = 0  # the input id for padding tokens added to the end of the context\n",
    "    \n",
    "    span_probabilities = []  # save the probabilities here\n",
    "    spans = []  # save the possible answer spans here\n",
    "    ###\n",
    "    context_start_index = input_ids.index(SEP_SPECIAL_TOKEN) + 1  # ensure that we start only after the [SEP] token\n",
    "\n",
    "    for start_idx in range(context_start_index, input_length):\n",
    "        for end_idx in range(start_idx, input_length):\n",
    "    ###            \n",
    "            start_prob = probs_start[start_idx]\n",
    "            end_prob = probs_end[end_idx]\n",
    "\n",
    "            # the probability of the span is the start probabilities times the end probabilities, this esitmates the joint probability ig starting at i and ending at j\n",
    "            span_prob = start_prob * end_prob\n",
    "            span_probabilities.append(span_prob)\n",
    "            \n",
    "            span = tokenizer.decode(input_ids[start_idx:end_idx+1])\n",
    "            spans.append(span)\n",
    "\n",
    "    # sort the spans according to probability:\n",
    "    sorted_span_index = np.argsort(span_probabilities)\n",
    "    \n",
    "    # print the top 20 answers:\n",
    "    for i in range(20):\n",
    "        print(f'Span prob = {span_probabilities[sorted_span_index[-i-1]]}, answer = {spans[sorted_span_index[-i-1]]}')\n",
    "            \n",
    "predict_answer(probs_start[example_index], probs_end[example_index], example['input_ids'], tokenizer)"
   ]
  },
  {
   "cell_type": "markdown",
   "id": "135ed4ee-3134-4f52-9c38-271830e0b1a3",
   "metadata": {},
   "source": [
    "As we are using a pretrained model (BERT, specifically distilbert-base-cased-distilled-squad which has been fine-tuned for SQuAD datasets) the performace will depend on corpus that this model was trained on. BERT is primarily trained on Wikipedia and BookCorpus, we would expect the language from the Tweet QA dataset to differ significantly from this. Fine-tuning the model on this new dataset would be a good way to improve performance. When fine-tuning a pretrained model the gradients are back-propogated through the existing model and wights are updated, as would have happend in the intial training phase of the model. As the Tweet QA dataset is fairly large, fine-tuning the model without freezing any of the layers would likely be a good approach as it can better adapt to the context of tweets however the risk of overfitting is higher so this would need to be monitored. Fine-tuning is often most effective when downstream tasks are simillar which in the case here is true as we are using a BERT model that has been fine-tuned for SQuAD datasets. The only difference is that the context is tweets rather than paragraphs of text.\n",
    "\n",
    "As well as answering ad-hoc queries, question answering models can help us to extract structured information about entities of interest from a large set of documents. Suppose that we want to automatically collect information on tech companies, such as Apple and Open AI. We want to extract information about each company's activities from social media, including the names and release dates of new products and services, the company's earnings in a specific year, and who its CEO is.  \n",
    "\n",
    "With a list of tech company names, named entity recognition can be used as a preprocessing step to identify comapny names in the dataset. Given we have a list of tech company names this should be used to enchance the NER approach by using this list to validate results. NER is better than just searching for the companies in text because there will be variation in the use of company names which NER can account for. For example 'Apple' could be refering to the fruit or the company. Once we have tagged entities we need to formulate a list of questions for each company that we want to answer. This would involve creating a list of the questions we want to answer for each company. Once we have this we can then for each company and for each required question use the predict feature of our QA model to get answers. These answers can be further refined using the company name list to validate the results and remove invalid answers. The top remaining answers can then be stored for each question for each company."
   ]
  },
  {
   "cell_type": "markdown",
   "id": "0635306b-51de-4e9d-8608-8bd7473b294a",
   "metadata": {
    "tags": []
   },
   "source": [
    "# 6. Transformer-based Text Classifiers\n",
    "\n",
    "The previous section showed us how to use a pretrained QA model based on a pretrained transformer. In this section, you will learn how to construct and train a text classifier on top of a pretrained transformer. \n",
    "\n",
    "We will use the [TweetEval emotion](https://huggingface.co/datasets/tweet_eval) dataset to train and test a classifier. The task is to classify tweets into one of  0: anger, 1: joy, 2: optimism, or 3: sadness.\n",
    "\n",
    "To begin you will need to instantiate a suitable model."
   ]
  },
  {
   "cell_type": "markdown",
   "id": "b1339d48-6225-48cd-b82c-306a89ad3342",
   "metadata": {},
   "source": [
    "Here we find an AutoModel class that constructs a text classifier from the pretrained TinyBERT model, \"huawei-noah/TinyBERT_General_4L_312D\". Create the `model` object in the cell below using this class."
   ]
  },
  {
   "cell_type": "code",
   "execution_count": 53,
   "id": "99068090-6a2d-47f0-9d22-b78a6705cd3a",
   "metadata": {},
   "outputs": [
    {
     "name": "stderr",
     "output_type": "stream",
     "text": [
      "Some weights of BertForSequenceClassification were not initialized from the model checkpoint at huawei-noah/TinyBERT_General_4L_312D and are newly initialized: ['classifier.bias', 'classifier.weight']\n",
      "You should probably TRAIN this model on a down-stream task to be able to use it for predictions and inference.\n"
     ]
    }
   ],
   "source": [
    "from transformers import AutoModelForSequenceClassification\n",
    "num_labels = 4 \n",
    "model = AutoModelForSequenceClassification.from_pretrained(\"huawei-noah/TinyBERT_General_4L_312D\", num_labels=num_labels)"
   ]
  },
  {
   "cell_type": "markdown",
   "id": "50a38d4e-27a1-4c0c-b3fa-e8dc3bdf61b5",
   "metadata": {},
   "source": [
    "\n",
    "(https://huggingface.co/transformers/v3.0.2/model_doc/auto.html#automodelforsequenceclassification)\n",
    "The most notible difference between the QA model and the text classifier model is in the inputs and outputs. While both approaches used split the input document into tokens for classification there is no split between question and context, there is just a single sentence. Classification is a sequence-level task whereas QA is a token-level task. Models fine-tuned to complete specific tasks have an additional output layer, the output, instead of a start and end position in the text, indicating the most likely span of text that answers a given question will now be just a class label. The model itself will also have different weights in the network, these weights are learned in the fine-tuning process. For QA the model must understand the context of input question and find the context in the input context. For classification the model must associate the input text with a possible output label. \n",
    "\n",
    "For the QA task, the complete model was pretrained and we could apply it to a dataset without further training. However, for our poem sentiment classification task,\n",
    "we will need to train our model before we can use it (you may see a message in the output of the last cell telling you this). \n",
    "\n",
    "Next, let's learn how to train our model. For some tasks it is not necessary to update the weights in the BERT model itself, so we can freeze them to save a lot of computation time. We can do this as follows. Since our pretrained model is based on BERT, we can access the weights inside BERT through the variable `model.bert`."
   ]
  },
  {
   "cell_type": "code",
   "execution_count": 54,
   "id": "f8ad56b1-d6e7-4048-9cc0-71849a003363",
   "metadata": {},
   "outputs": [],
   "source": [
    "for param in model.bert.parameters():\n",
    "    param.requires_grad = False"
   ]
  },
  {
   "cell_type": "markdown",
   "id": "a0e0c065-fb40-4e24-b4e4-ffe9ed473ba9",
   "metadata": {},
   "source": [
    "To train our model, we can make use of the Trainer class, which encapsulates a lot of the complex training steps and avoids the need to define our own training function, as we did in the previous notebook (we don't need to write our own `train_nn`).\n",
    "\n",
    "First, define some settings for the training process. This is where we can set training hyperparameters:"
   ]
  },
  {
   "cell_type": "code",
   "execution_count": 55,
   "id": "62af0a20-79a5-49ca-882a-638a68b288f7",
   "metadata": {},
   "outputs": [],
   "source": [
    "from transformers import TrainingArguments\n",
    "\n",
    "training_args = TrainingArguments(\n",
    "    output_dir=\"transformer_checkpoints\",  # specify the directory where models weights will be saved a certain points during training (checkpoints)\n",
    "    num_train_epochs=10, # A sensible and sufficient number to use for the to-dos below\n",
    "    per_device_train_batch_size=8,  # you can decrease this if memory usage is too high while training\n",
    "    logging_steps=50,  # how often to print progress during training\n",
    ")"
   ]
  },
  {
   "cell_type": "markdown",
   "id": "dc2b86a0-df7f-4978-a0ff-43d1b68975c5",
   "metadata": {},
   "source": [
    "Next, create a trainer object. Note that the next cell will currently fail with an error, because the variables `em_train_dataset` and `em_val_dataset` do not exist yet! Don't worry, we'll fix this later. "
   ]
  },
  {
   "cell_type": "code",
   "execution_count": 56,
   "id": "9e5ba93c-f8c4-4542-a316-6aac4a32362d",
   "metadata": {},
   "outputs": [],
   "source": [
    "from transformers import Trainer\n",
    "from torch import nn\n",
    "\n",
    "# trainer = Trainer(\n",
    "#     model=model,\n",
    "#     args=training_args,\n",
    "#     train_dataset=em_train_dataset,\n",
    "#     eval_dataset=em_val_dataset,\n",
    "# )"
   ]
  },
  {
   "cell_type": "markdown",
   "id": "3c33b30b-2c23-45e5-b2a1-757f1bf93ab7",
   "metadata": {},
   "source": [
    "To train the model, you will need to call `trainer.train()`.\n",
    "\n",
    "Once the model is trained, we can obtain predictions using the function below. Notice that it is simpler than obtaining the spans for QA -- we simply get the logits for each tweet in the test set, then apply argmax over the classes to find the most probable class for each tweet:"
   ]
  },
  {
   "cell_type": "code",
   "execution_count": 57,
   "id": "ad4e689d-ebec-44c4-b81d-649079e4a4a6",
   "metadata": {
    "tags": []
   },
   "outputs": [],
   "source": [
    "def predict_nn(trained_model, test_dataset):\n",
    "\n",
    "    # Switch off dropout\n",
    "    trained_model.eval()\n",
    "    \n",
    "    # Pass the required items from the dataset to the model    \n",
    "    output = trained_model(attention_mask=torch.tensor(test_dataset[\"attention_mask\"]), input_ids=torch.tensor(test_dataset[\"input_ids\"]))\n",
    "                        \n",
    "    # the output dictionary contains logits, which are the unnormalised scores for each class for each example:\n",
    "    pred_labs = np.argmax(output[\"logits\"].detach().numpy(), axis=1)\n",
    "\n",
    "    return pred_labs"
   ]
  },
  {
   "cell_type": "markdown",
   "id": "8ddf8564-4f98-4e3f-b1f7-b59725a0605c",
   "metadata": {},
   "source": [
    "You should now have all the bits and pieces needed to build and train a text classifier. Let's put them all together...\n",
    "\n",
    "Here we implement and test a classifier for the [Emotion](https://huggingface.co/datasets/tweet_eval) dataset using a pretrained transformer. Evaluate the classifier with both frozen and unfrozen (i.e., fine-tuned) parameters in the pretrained transformer. Choose a suitable evaluation metric and provide a comparison of the results below, including a brief explanation  (1-2 sentences) for any differences you observe between the frozen and unfrozen variants. Make sure to comment your code.\n",
    "\n",
    "Notes: \n",
    " * Strong classifier performance is not required to achive good marks -- rather, we award marks for implementing and testing a transformer-based classifier correctly.\n",
    " * You may implement any suitable kind of classifier you like, as long as you are using a pretrained transformer model.\n",
    " * 'tiny' BERT variants such as TinyBERT and roberta-tiny are recommended because they are small enough to fine-tune with a typical laptop CPU. We recommend sticking with these smaller pretrained models unless you have access to a GPU, e.g., via Google Colab. \n",
    "\n",
    "**Results:**\n",
    "\n",
    "Frozen: Micro F1 Score = 0.7967914438502673 Frozen: Macro F1 Score = 0.7263282143015635 Accuracy = 0.7967914438502673\n",
    "\n",
    "Unfrozen: Micro F1 Score = 0.7887700534759359 Frozen: Macro F1 Score = 0.7292671991032647 Accuracy = 0.7887700534759359\n",
    "\n",
    "This model shows good performance for both frozen and unfrozen approaches with slightly better performance for the frozen model. Both models showed very good performance in predicting classes 0,1 and 3 and poor performace for class 2, this is likely becuase of class imbalance in the training data. \n",
    "\n"
   ]
  },
  {
   "cell_type": "code",
   "execution_count": 58,
   "id": "5fcd5efd",
   "metadata": {},
   "outputs": [
    {
     "name": "stdout",
     "output_type": "stream",
     "text": [
      "tensor([1.], device='mps:0')\n",
      "Train dataset with 3257 instances loaded\n",
      "Validation dataset with 374 instances loaded\n"
     ]
    },
    {
     "name": "stderr",
     "output_type": "stream",
     "text": [
      "Some weights of BertForSequenceClassification were not initialized from the model checkpoint at bert-base-uncased and are newly initialized: ['classifier.bias', 'classifier.weight']\n",
      "You should probably TRAIN this model on a down-stream task to be able to use it for predictions and inference.\n",
      "Some weights of BertForSequenceClassification were not initialized from the model checkpoint at bert-base-uncased and are newly initialized: ['classifier.bias', 'classifier.weight']\n",
      "You should probably TRAIN this model on a down-stream task to be able to use it for predictions and inference.\n",
      "/Users/C289216/miniconda3/envs/datasci/lib/python3.9/site-packages/accelerate/accelerator.py:432: FutureWarning: Passing the following arguments to `Accelerator` is deprecated and will be removed in version 1.0 of Accelerate: dict_keys(['dispatch_batches', 'split_batches', 'even_batches', 'use_seedable_sampler']). Please pass an `accelerate.DataLoaderConfiguration` instead: \n",
      "dataloader_config = DataLoaderConfiguration(dispatch_batches=None, split_batches=False, even_batches=True, use_seedable_sampler=True)\n",
      "  warnings.warn(\n"
     ]
    },
    {
     "data": {
      "application/vnd.jupyter.widget-view+json": {
       "model_id": "f51bb746138345a1965979f538e30067",
       "version_major": 2,
       "version_minor": 0
      },
      "text/plain": [
       "  0%|          | 0/4080 [00:00<?, ?it/s]"
      ]
     },
     "metadata": {},
     "output_type": "display_data"
    },
    {
     "name": "stdout",
     "output_type": "stream",
     "text": [
      "{'loss': 1.2339, 'grad_norm': 16.009841918945312, 'learning_rate': 4.9387254901960786e-05, 'epoch': 0.12}\n",
      "{'loss': 0.9862, 'grad_norm': 10.616930961608887, 'learning_rate': 4.877450980392157e-05, 'epoch': 0.25}\n",
      "{'loss': 0.8014, 'grad_norm': 35.767921447753906, 'learning_rate': 4.816176470588236e-05, 'epoch': 0.37}\n",
      "{'loss': 0.7131, 'grad_norm': 6.483719825744629, 'learning_rate': 4.7549019607843135e-05, 'epoch': 0.49}\n",
      "{'loss': 0.7026, 'grad_norm': 10.569408416748047, 'learning_rate': 4.6936274509803925e-05, 'epoch': 0.61}\n",
      "{'loss': 0.6741, 'grad_norm': 26.182552337646484, 'learning_rate': 4.632352941176471e-05, 'epoch': 0.74}\n",
      "{'loss': 0.7002, 'grad_norm': 14.549432754516602, 'learning_rate': 4.571078431372549e-05, 'epoch': 0.86}\n",
      "{'loss': 0.6863, 'grad_norm': 11.209315299987793, 'learning_rate': 4.5098039215686275e-05, 'epoch': 0.98}\n",
      "{'loss': 0.3808, 'grad_norm': 2.4471166133880615, 'learning_rate': 4.448529411764706e-05, 'epoch': 1.1}\n",
      "{'loss': 0.3447, 'grad_norm': 2.2871310710906982, 'learning_rate': 4.387254901960784e-05, 'epoch': 1.23}\n",
      "{'loss': 0.3887, 'grad_norm': 18.082542419433594, 'learning_rate': 4.325980392156863e-05, 'epoch': 1.35}\n",
      "{'loss': 0.5223, 'grad_norm': 13.249391555786133, 'learning_rate': 4.2647058823529415e-05, 'epoch': 1.47}\n",
      "{'loss': 0.5127, 'grad_norm': 17.24507713317871, 'learning_rate': 4.20343137254902e-05, 'epoch': 1.59}\n",
      "{'loss': 0.4574, 'grad_norm': 0.9637150764465332, 'learning_rate': 4.142156862745099e-05, 'epoch': 1.72}\n",
      "{'loss': 0.5238, 'grad_norm': 8.872758865356445, 'learning_rate': 4.0808823529411765e-05, 'epoch': 1.84}\n",
      "{'loss': 0.5565, 'grad_norm': 13.196892738342285, 'learning_rate': 4.0196078431372555e-05, 'epoch': 1.96}\n",
      "{'loss': 0.3552, 'grad_norm': 0.3544541597366333, 'learning_rate': 3.958333333333333e-05, 'epoch': 2.08}\n",
      "{'loss': 0.3497, 'grad_norm': 0.19662506878376007, 'learning_rate': 3.897058823529412e-05, 'epoch': 2.21}\n",
      "{'loss': 0.3379, 'grad_norm': 3.2061750888824463, 'learning_rate': 3.8357843137254904e-05, 'epoch': 2.33}\n",
      "{'loss': 0.2738, 'grad_norm': 0.11276046186685562, 'learning_rate': 3.774509803921569e-05, 'epoch': 2.45}\n",
      "{'loss': 0.2222, 'grad_norm': 20.54892921447754, 'learning_rate': 3.713235294117647e-05, 'epoch': 2.57}\n",
      "{'loss': 0.1728, 'grad_norm': 2.260549545288086, 'learning_rate': 3.6519607843137254e-05, 'epoch': 2.7}\n",
      "{'loss': 0.2301, 'grad_norm': 63.3001594543457, 'learning_rate': 3.5906862745098044e-05, 'epoch': 2.82}\n",
      "{'loss': 0.2017, 'grad_norm': 4.453460216522217, 'learning_rate': 3.529411764705883e-05, 'epoch': 2.94}\n",
      "{'loss': 0.2189, 'grad_norm': 31.278583526611328, 'learning_rate': 3.468137254901961e-05, 'epoch': 3.06}\n",
      "{'loss': 0.1646, 'grad_norm': 0.6807568073272705, 'learning_rate': 3.4068627450980394e-05, 'epoch': 3.19}\n",
      "{'loss': 0.1668, 'grad_norm': 0.11069945245981216, 'learning_rate': 3.345588235294118e-05, 'epoch': 3.31}\n",
      "{'loss': 0.141, 'grad_norm': 1.263209581375122, 'learning_rate': 3.284313725490196e-05, 'epoch': 3.43}\n",
      "{'loss': 0.1421, 'grad_norm': 5.08323335647583, 'learning_rate': 3.223039215686275e-05, 'epoch': 3.55}\n",
      "{'loss': 0.1167, 'grad_norm': 5.109607219696045, 'learning_rate': 3.161764705882353e-05, 'epoch': 3.68}\n",
      "{'loss': 0.1868, 'grad_norm': 0.023396486416459084, 'learning_rate': 3.100490196078432e-05, 'epoch': 3.8}\n",
      "{'loss': 0.1029, 'grad_norm': 0.01229675579816103, 'learning_rate': 3.0392156862745097e-05, 'epoch': 3.92}\n",
      "{'loss': 0.0492, 'grad_norm': 0.04841110110282898, 'learning_rate': 2.9779411764705883e-05, 'epoch': 4.04}\n",
      "{'loss': 0.0745, 'grad_norm': 4.626397609710693, 'learning_rate': 2.916666666666667e-05, 'epoch': 4.17}\n",
      "{'loss': 0.0445, 'grad_norm': 0.01351225096732378, 'learning_rate': 2.855392156862745e-05, 'epoch': 4.29}\n",
      "{'loss': 0.049, 'grad_norm': 27.512434005737305, 'learning_rate': 2.7941176470588236e-05, 'epoch': 4.41}\n",
      "{'loss': 0.0317, 'grad_norm': 0.0421285480260849, 'learning_rate': 2.732843137254902e-05, 'epoch': 4.53}\n",
      "{'loss': 0.0813, 'grad_norm': 20.296443939208984, 'learning_rate': 2.6715686274509806e-05, 'epoch': 4.66}\n",
      "{'loss': 0.0544, 'grad_norm': 0.008304839953780174, 'learning_rate': 2.6102941176470593e-05, 'epoch': 4.78}\n",
      "{'loss': 0.1069, 'grad_norm': 0.023111650720238686, 'learning_rate': 2.5490196078431373e-05, 'epoch': 4.9}\n",
      "{'loss': 0.0353, 'grad_norm': 0.018027395009994507, 'learning_rate': 2.487745098039216e-05, 'epoch': 5.02}\n",
      "{'loss': 0.0516, 'grad_norm': 0.015465037897229195, 'learning_rate': 2.4264705882352942e-05, 'epoch': 5.15}\n",
      "{'loss': 0.0325, 'grad_norm': 0.013654383830726147, 'learning_rate': 2.3651960784313726e-05, 'epoch': 5.27}\n",
      "{'loss': 0.0364, 'grad_norm': 0.00810710247606039, 'learning_rate': 2.303921568627451e-05, 'epoch': 5.39}\n",
      "{'loss': 0.0094, 'grad_norm': 0.47273334860801697, 'learning_rate': 2.2426470588235296e-05, 'epoch': 5.51}\n",
      "{'loss': 0.0313, 'grad_norm': 69.86257934570312, 'learning_rate': 2.181372549019608e-05, 'epoch': 5.64}\n",
      "{'loss': 0.0586, 'grad_norm': 2.343472957611084, 'learning_rate': 2.1200980392156862e-05, 'epoch': 5.76}\n",
      "{'loss': 0.0394, 'grad_norm': 0.022598344832658768, 'learning_rate': 2.058823529411765e-05, 'epoch': 5.88}\n",
      "{'loss': 0.0599, 'grad_norm': 0.01295405812561512, 'learning_rate': 1.9975490196078432e-05, 'epoch': 6.0}\n",
      "{'loss': 0.0254, 'grad_norm': 0.0069106207229197025, 'learning_rate': 1.936274509803922e-05, 'epoch': 6.13}\n",
      "{'loss': 0.0255, 'grad_norm': 0.013384160585701466, 'learning_rate': 1.8750000000000002e-05, 'epoch': 6.25}\n",
      "{'loss': 0.0009, 'grad_norm': 0.11752954125404358, 'learning_rate': 1.8137254901960785e-05, 'epoch': 6.37}\n",
      "{'loss': 0.0003, 'grad_norm': 0.0028273260686546564, 'learning_rate': 1.7524509803921568e-05, 'epoch': 6.5}\n",
      "{'loss': 0.0778, 'grad_norm': 0.009698882699012756, 'learning_rate': 1.6911764705882355e-05, 'epoch': 6.62}\n",
      "{'loss': 0.0314, 'grad_norm': 0.012711504474282265, 'learning_rate': 1.6299019607843138e-05, 'epoch': 6.74}\n",
      "{'loss': 0.0422, 'grad_norm': 55.23641586303711, 'learning_rate': 1.568627450980392e-05, 'epoch': 6.86}\n",
      "{'loss': 0.0168, 'grad_norm': 0.017021454870700836, 'learning_rate': 1.5073529411764706e-05, 'epoch': 6.99}\n",
      "{'loss': 0.0006, 'grad_norm': 0.012658991850912571, 'learning_rate': 1.4460784313725493e-05, 'epoch': 7.11}\n",
      "{'loss': 0.0253, 'grad_norm': 0.005500056780874729, 'learning_rate': 1.3848039215686276e-05, 'epoch': 7.23}\n",
      "{'loss': 0.0304, 'grad_norm': 5.80418586730957, 'learning_rate': 1.323529411764706e-05, 'epoch': 7.35}\n",
      "{'loss': 0.0293, 'grad_norm': 0.020119987428188324, 'learning_rate': 1.2622549019607843e-05, 'epoch': 7.48}\n",
      "{'loss': 0.005, 'grad_norm': 0.015266834758222103, 'learning_rate': 1.200980392156863e-05, 'epoch': 7.6}\n",
      "{'loss': 0.0303, 'grad_norm': 0.0029521824326366186, 'learning_rate': 1.1397058823529412e-05, 'epoch': 7.72}\n",
      "{'loss': 0.0003, 'grad_norm': 0.00304869725368917, 'learning_rate': 1.0784313725490197e-05, 'epoch': 7.84}\n",
      "{'loss': 0.0051, 'grad_norm': 0.011260672472417355, 'learning_rate': 1.017156862745098e-05, 'epoch': 7.97}\n",
      "{'loss': 0.0242, 'grad_norm': 0.006658200174570084, 'learning_rate': 9.558823529411764e-06, 'epoch': 8.09}\n",
      "{'loss': 0.0244, 'grad_norm': 0.0031380276195704937, 'learning_rate': 8.946078431372549e-06, 'epoch': 8.21}\n",
      "{'loss': 0.0004, 'grad_norm': 0.004408203065395355, 'learning_rate': 8.333333333333334e-06, 'epoch': 8.33}\n",
      "{'loss': 0.0003, 'grad_norm': 0.0023867751006036997, 'learning_rate': 7.720588235294119e-06, 'epoch': 8.46}\n",
      "{'loss': 0.0173, 'grad_norm': 0.0033178722951561213, 'learning_rate': 7.107843137254902e-06, 'epoch': 8.58}\n",
      "{'loss': 0.0127, 'grad_norm': 0.0023543669376522303, 'learning_rate': 6.495098039215687e-06, 'epoch': 8.7}\n",
      "{'loss': 0.0047, 'grad_norm': 0.0033205808140337467, 'learning_rate': 5.882352941176471e-06, 'epoch': 8.82}\n",
      "{'loss': 0.0002, 'grad_norm': 0.004330371972173452, 'learning_rate': 5.269607843137255e-06, 'epoch': 8.95}\n",
      "{'loss': 0.0002, 'grad_norm': 0.006859949324280024, 'learning_rate': 4.65686274509804e-06, 'epoch': 9.07}\n",
      "{'loss': 0.01, 'grad_norm': 0.002740671159699559, 'learning_rate': 4.044117647058824e-06, 'epoch': 9.19}\n",
      "{'loss': 0.0002, 'grad_norm': 0.0022476206067949533, 'learning_rate': 3.431372549019608e-06, 'epoch': 9.31}\n",
      "{'loss': 0.0044, 'grad_norm': 0.0020588808692991734, 'learning_rate': 2.818627450980392e-06, 'epoch': 9.44}\n",
      "{'loss': 0.0141, 'grad_norm': 0.0031636098865419626, 'learning_rate': 2.2058823529411767e-06, 'epoch': 9.56}\n",
      "{'loss': 0.0002, 'grad_norm': 0.002494793850928545, 'learning_rate': 1.5931372549019608e-06, 'epoch': 9.68}\n",
      "{'loss': 0.0003, 'grad_norm': 0.0057897609658539295, 'learning_rate': 9.80392156862745e-07, 'epoch': 9.8}\n",
      "{'loss': 0.0002, 'grad_norm': 0.004306588787585497, 'learning_rate': 3.6764705882352943e-07, 'epoch': 9.93}\n",
      "{'train_runtime': 2195.9515, 'train_samples_per_second': 14.832, 'train_steps_per_second': 1.858, 'train_loss': 0.18228465564612883, 'epoch': 10.0}\n"
     ]
    },
    {
     "data": {
      "application/vnd.jupyter.widget-view+json": {
       "model_id": "da338d1f183d44c294c29bd0d1886b29",
       "version_major": 2,
       "version_minor": 0
      },
      "text/plain": [
       "  0%|          | 0/47 [00:00<?, ?it/s]"
      ]
     },
     "metadata": {},
     "output_type": "display_data"
    },
    {
     "data": {
      "image/png": "[encoded data removed]",
      "text/plain": [
       "<Figure size 640x480 with 2 Axes>"
      ]
     },
     "metadata": {},
     "output_type": "display_data"
    },
    {
     "name": "stdout",
     "output_type": "stream",
     "text": [
      "Frozen: Micro F1 Score = 0.7967914438502673 Frozen: Macro F1 Score = 0.7263282143015635 Accuracy = 0.7967914438502673\n"
     ]
    },
    {
     "name": "stderr",
     "output_type": "stream",
     "text": [
      "Some weights of BertForSequenceClassification were not initialized from the model checkpoint at bert-base-uncased and are newly initialized: ['classifier.bias', 'classifier.weight']\n",
      "You should probably TRAIN this model on a down-stream task to be able to use it for predictions and inference.\n",
      "/Users/C289216/miniconda3/envs/datasci/lib/python3.9/site-packages/accelerate/accelerator.py:432: FutureWarning: Passing the following arguments to `Accelerator` is deprecated and will be removed in version 1.0 of Accelerate: dict_keys(['dispatch_batches', 'split_batches', 'even_batches', 'use_seedable_sampler']). Please pass an `accelerate.DataLoaderConfiguration` instead: \n",
      "dataloader_config = DataLoaderConfiguration(dispatch_batches=None, split_batches=False, even_batches=True, use_seedable_sampler=True)\n",
      "  warnings.warn(\n"
     ]
    },
    {
     "data": {
      "application/vnd.jupyter.widget-view+json": {
       "model_id": "3c71aff39e06452b9d49ed93e20423cd",
       "version_major": 2,
       "version_minor": 0
      },
      "text/plain": [
       "  0%|          | 0/4080 [00:00<?, ?it/s]"
      ]
     },
     "metadata": {},
     "output_type": "display_data"
    },
    {
     "name": "stdout",
     "output_type": "stream",
     "text": [
      "{'loss': 1.1686, 'grad_norm': 18.704633712768555, 'learning_rate': 4.9387254901960786e-05, 'epoch': 0.12}\n",
      "{'loss': 0.8461, 'grad_norm': 25.330907821655273, 'learning_rate': 4.877450980392157e-05, 'epoch': 0.25}\n",
      "{'loss': 0.7771, 'grad_norm': 16.333826065063477, 'learning_rate': 4.816176470588236e-05, 'epoch': 0.37}\n",
      "{'loss': 0.6951, 'grad_norm': 4.725244045257568, 'learning_rate': 4.7549019607843135e-05, 'epoch': 0.49}\n",
      "{'loss': 0.702, 'grad_norm': 11.99639892578125, 'learning_rate': 4.6936274509803925e-05, 'epoch': 0.61}\n",
      "{'loss': 0.7049, 'grad_norm': 25.550018310546875, 'learning_rate': 4.632352941176471e-05, 'epoch': 0.74}\n",
      "{'loss': 0.6872, 'grad_norm': 16.527263641357422, 'learning_rate': 4.571078431372549e-05, 'epoch': 0.86}\n",
      "{'loss': 0.7217, 'grad_norm': 11.38627815246582, 'learning_rate': 4.5098039215686275e-05, 'epoch': 0.98}\n",
      "{'loss': 0.3985, 'grad_norm': 9.141362190246582, 'learning_rate': 4.448529411764706e-05, 'epoch': 1.1}\n",
      "{'loss': 0.3851, 'grad_norm': 13.269014358520508, 'learning_rate': 4.387254901960784e-05, 'epoch': 1.23}\n",
      "{'loss': 0.3795, 'grad_norm': 14.600761413574219, 'learning_rate': 4.325980392156863e-05, 'epoch': 1.35}\n",
      "{'loss': 0.5471, 'grad_norm': 9.472710609436035, 'learning_rate': 4.2647058823529415e-05, 'epoch': 1.47}\n",
      "{'loss': 0.4669, 'grad_norm': 23.531463623046875, 'learning_rate': 4.20343137254902e-05, 'epoch': 1.59}\n",
      "{'loss': 0.4596, 'grad_norm': 0.47651875019073486, 'learning_rate': 4.142156862745099e-05, 'epoch': 1.72}\n",
      "{'loss': 0.4792, 'grad_norm': 51.37432861328125, 'learning_rate': 4.0808823529411765e-05, 'epoch': 1.84}\n",
      "{'loss': 0.4464, 'grad_norm': 3.6772549152374268, 'learning_rate': 4.0196078431372555e-05, 'epoch': 1.96}\n",
      "{'loss': 0.3499, 'grad_norm': 2.415053367614746, 'learning_rate': 3.958333333333333e-05, 'epoch': 2.08}\n",
      "{'loss': 0.2609, 'grad_norm': 0.9680918455123901, 'learning_rate': 3.897058823529412e-05, 'epoch': 2.21}\n",
      "{'loss': 0.2493, 'grad_norm': 130.05105590820312, 'learning_rate': 3.8357843137254904e-05, 'epoch': 2.33}\n",
      "{'loss': 0.2338, 'grad_norm': 0.080827496945858, 'learning_rate': 3.774509803921569e-05, 'epoch': 2.45}\n",
      "{'loss': 0.1987, 'grad_norm': 0.15969917178153992, 'learning_rate': 3.713235294117647e-05, 'epoch': 2.57}\n",
      "{'loss': 0.2028, 'grad_norm': 1.2899620532989502, 'learning_rate': 3.6519607843137254e-05, 'epoch': 2.7}\n",
      "{'loss': 0.2634, 'grad_norm': 19.198823928833008, 'learning_rate': 3.5906862745098044e-05, 'epoch': 2.82}\n",
      "{'loss': 0.3247, 'grad_norm': 1.1071062088012695, 'learning_rate': 3.529411764705883e-05, 'epoch': 2.94}\n",
      "{'loss': 0.2026, 'grad_norm': 18.172035217285156, 'learning_rate': 3.468137254901961e-05, 'epoch': 3.06}\n",
      "{'loss': 0.0932, 'grad_norm': 82.43486785888672, 'learning_rate': 3.4068627450980394e-05, 'epoch': 3.19}\n",
      "{'loss': 0.0987, 'grad_norm': 0.031101401895284653, 'learning_rate': 3.345588235294118e-05, 'epoch': 3.31}\n",
      "{'loss': 0.0813, 'grad_norm': 0.032467007637023926, 'learning_rate': 3.284313725490196e-05, 'epoch': 3.43}\n",
      "{'loss': 0.104, 'grad_norm': 0.02560565434396267, 'learning_rate': 3.223039215686275e-05, 'epoch': 3.55}\n",
      "{'loss': 0.181, 'grad_norm': 0.01843149960041046, 'learning_rate': 3.161764705882353e-05, 'epoch': 3.68}\n",
      "{'loss': 0.2042, 'grad_norm': 0.04817346855998039, 'learning_rate': 3.100490196078432e-05, 'epoch': 3.8}\n",
      "{'loss': 0.0292, 'grad_norm': 0.011514157056808472, 'learning_rate': 3.0392156862745097e-05, 'epoch': 3.92}\n",
      "{'loss': 0.1047, 'grad_norm': 0.08791717886924744, 'learning_rate': 2.9779411764705883e-05, 'epoch': 4.04}\n",
      "{'loss': 0.0308, 'grad_norm': 0.06910083442926407, 'learning_rate': 2.916666666666667e-05, 'epoch': 4.17}\n",
      "{'loss': 0.0676, 'grad_norm': 0.015912359580397606, 'learning_rate': 2.855392156862745e-05, 'epoch': 4.29}\n",
      "{'loss': 0.0588, 'grad_norm': 52.34845733642578, 'learning_rate': 2.7941176470588236e-05, 'epoch': 4.41}\n",
      "{'loss': 0.041, 'grad_norm': 0.00838696863502264, 'learning_rate': 2.732843137254902e-05, 'epoch': 4.53}\n",
      "{'loss': 0.1495, 'grad_norm': 8.724248886108398, 'learning_rate': 2.6715686274509806e-05, 'epoch': 4.66}\n",
      "{'loss': 0.0644, 'grad_norm': 0.018682127818465233, 'learning_rate': 2.6102941176470593e-05, 'epoch': 4.78}\n",
      "{'loss': 0.0788, 'grad_norm': 0.02517891116440296, 'learning_rate': 2.5490196078431373e-05, 'epoch': 4.9}\n",
      "{'loss': 0.0051, 'grad_norm': 0.020010817795991898, 'learning_rate': 2.487745098039216e-05, 'epoch': 5.02}\n",
      "{'loss': 0.0363, 'grad_norm': 0.00674959784373641, 'learning_rate': 2.4264705882352942e-05, 'epoch': 5.15}\n",
      "{'loss': 0.0636, 'grad_norm': 0.03501646965742111, 'learning_rate': 2.3651960784313726e-05, 'epoch': 5.27}\n",
      "{'loss': 0.0579, 'grad_norm': 0.004827242810279131, 'learning_rate': 2.303921568627451e-05, 'epoch': 5.39}\n",
      "{'loss': 0.0106, 'grad_norm': 0.305738627910614, 'learning_rate': 2.2426470588235296e-05, 'epoch': 5.51}\n",
      "{'loss': 0.0269, 'grad_norm': 0.0044432696886360645, 'learning_rate': 2.181372549019608e-05, 'epoch': 5.64}\n",
      "{'loss': 0.0075, 'grad_norm': 0.003652527229860425, 'learning_rate': 2.1200980392156862e-05, 'epoch': 5.76}\n",
      "{'loss': 0.0234, 'grad_norm': 0.029795560985803604, 'learning_rate': 2.058823529411765e-05, 'epoch': 5.88}\n",
      "{'loss': 0.0623, 'grad_norm': 0.057573091238737106, 'learning_rate': 1.9975490196078432e-05, 'epoch': 6.0}\n",
      "{'loss': 0.0521, 'grad_norm': 0.014024332165718079, 'learning_rate': 1.936274509803922e-05, 'epoch': 6.13}\n",
      "{'loss': 0.0153, 'grad_norm': 0.010426647961139679, 'learning_rate': 1.8750000000000002e-05, 'epoch': 6.25}\n",
      "{'loss': 0.0044, 'grad_norm': 3.8562681674957275, 'learning_rate': 1.8137254901960785e-05, 'epoch': 6.37}\n",
      "{'loss': 0.0005, 'grad_norm': 0.0033639702014625072, 'learning_rate': 1.7524509803921568e-05, 'epoch': 6.5}\n",
      "{'loss': 0.0773, 'grad_norm': 0.009150092490017414, 'learning_rate': 1.6911764705882355e-05, 'epoch': 6.62}\n",
      "{'loss': 0.0163, 'grad_norm': 0.005702578462660313, 'learning_rate': 1.6299019607843138e-05, 'epoch': 6.74}\n",
      "{'loss': 0.0198, 'grad_norm': 0.0038161007687449455, 'learning_rate': 1.568627450980392e-05, 'epoch': 6.86}\n",
      "{'loss': 0.0183, 'grad_norm': 0.007220492232590914, 'learning_rate': 1.5073529411764706e-05, 'epoch': 6.99}\n",
      "{'loss': 0.012, 'grad_norm': 0.007470260374248028, 'learning_rate': 1.4460784313725493e-05, 'epoch': 7.11}\n",
      "{'loss': 0.0523, 'grad_norm': 0.003838423639535904, 'learning_rate': 1.3848039215686276e-05, 'epoch': 7.23}\n",
      "{'loss': 0.0056, 'grad_norm': 0.01207059994339943, 'learning_rate': 1.323529411764706e-05, 'epoch': 7.35}\n",
      "{'loss': 0.0081, 'grad_norm': 0.004529200028628111, 'learning_rate': 1.2622549019607843e-05, 'epoch': 7.48}\n",
      "{'loss': 0.0004, 'grad_norm': 0.010126383043825626, 'learning_rate': 1.200980392156863e-05, 'epoch': 7.6}\n",
      "{'loss': 0.0185, 'grad_norm': 0.005395208019763231, 'learning_rate': 1.1397058823529412e-05, 'epoch': 7.72}\n",
      "{'loss': 0.0003, 'grad_norm': 0.00259335502050817, 'learning_rate': 1.0784313725490197e-05, 'epoch': 7.84}\n",
      "{'loss': 0.0059, 'grad_norm': 0.0032580364495515823, 'learning_rate': 1.017156862745098e-05, 'epoch': 7.97}\n",
      "{'loss': 0.0204, 'grad_norm': 0.005516560282558203, 'learning_rate': 9.558823529411764e-06, 'epoch': 8.09}\n",
      "{'loss': 0.0316, 'grad_norm': 0.0027897078543901443, 'learning_rate': 8.946078431372549e-06, 'epoch': 8.21}\n",
      "{'loss': 0.0003, 'grad_norm': 0.003426292212679982, 'learning_rate': 8.333333333333334e-06, 'epoch': 8.33}\n",
      "{'loss': 0.0008, 'grad_norm': 0.0023889984004199505, 'learning_rate': 7.720588235294119e-06, 'epoch': 8.46}\n",
      "{'loss': 0.0002, 'grad_norm': 0.0032835681922733784, 'learning_rate': 7.107843137254902e-06, 'epoch': 8.58}\n",
      "{'loss': 0.0095, 'grad_norm': 0.002192219253629446, 'learning_rate': 6.495098039215687e-06, 'epoch': 8.7}\n",
      "{'loss': 0.0051, 'grad_norm': 0.0020816216710954905, 'learning_rate': 5.882352941176471e-06, 'epoch': 8.82}\n",
      "{'loss': 0.0002, 'grad_norm': 0.01054158341139555, 'learning_rate': 5.269607843137255e-06, 'epoch': 8.95}\n",
      "{'loss': 0.0002, 'grad_norm': 0.003994546364992857, 'learning_rate': 4.65686274509804e-06, 'epoch': 9.07}\n",
      "{'loss': 0.0069, 'grad_norm': 0.0020043435506522655, 'learning_rate': 4.044117647058824e-06, 'epoch': 9.19}\n",
      "{'loss': 0.0003, 'grad_norm': 0.007390121929347515, 'learning_rate': 3.431372549019608e-06, 'epoch': 9.31}\n",
      "{'loss': 0.0063, 'grad_norm': 0.002132715657353401, 'learning_rate': 2.818627450980392e-06, 'epoch': 9.44}\n",
      "{'loss': 0.0019, 'grad_norm': 0.00206175004132092, 'learning_rate': 2.2058823529411767e-06, 'epoch': 9.56}\n",
      "{'loss': 0.0013, 'grad_norm': 0.002185508608818054, 'learning_rate': 1.5931372549019608e-06, 'epoch': 9.68}\n",
      "{'loss': 0.0014, 'grad_norm': 0.0031575607135891914, 'learning_rate': 9.80392156862745e-07, 'epoch': 9.8}\n",
      "{'loss': 0.0002, 'grad_norm': 0.0027518561109900475, 'learning_rate': 3.6764705882352943e-07, 'epoch': 9.93}\n",
      "{'train_runtime': 2232.4778, 'train_samples_per_second': 14.589, 'train_steps_per_second': 1.828, 'train_loss': 0.17432938669796796, 'epoch': 10.0}\n"
     ]
    },
    {
     "data": {
      "application/vnd.jupyter.widget-view+json": {
       "model_id": "f024090692234d1ab7babd625d088a8f",
       "version_major": 2,
       "version_minor": 0
      },
      "text/plain": [
       "  0%|          | 0/47 [00:00<?, ?it/s]"
      ]
     },
     "metadata": {},
     "output_type": "display_data"
    },
    {
     "data": {
      "image/png": "[encoded data removed]",
      "text/plain": [
       "<Figure size 640x480 with 2 Axes>"
      ]
     },
     "metadata": {},
     "output_type": "display_data"
    },
    {
     "name": "stdout",
     "output_type": "stream",
     "text": [
      "Unfrozen: Micro F1 Score = 0.7887700534759359 Frozen: Macro F1 Score = 0.7292671991032647 Accuracy = 0.7887700534759359\n"
     ]
    }
   ],
   "source": [
    "from sklearn.metrics import f1_score, accuracy_score, confusion_matrix, ConfusionMatrixDisplay\n",
    "\n",
    "if torch.backends.mps.is_available():\n",
    "    mps_device = torch.device(\"mps\")\n",
    "    x = torch.ones(1, device=mps_device)\n",
    "    print (x)\n",
    "else:\n",
    "    print (\"MPS device not found.\")\n",
    "\n",
    "# load dataset\n",
    "em_train_dataset = load_dataset(\n",
    "    \"tweet_eval\", \"emotion\",\n",
    "    split=\"train\",\n",
    "    cache_dir=cache_dir\n",
    ")\n",
    "\n",
    "em_val_dataset = load_dataset(\n",
    "    \"tweet_eval\", \"emotion\",\n",
    "    split=\"validation\",\n",
    "    cache_dir=cache_dir\n",
    ")\n",
    "print(f\"Train dataset with {len(em_train_dataset)} instances loaded\")\n",
    "print(f\"Validation dataset with {len(em_val_dataset)} instances loaded\")\n",
    "\n",
    "num_labels = 4 \n",
    "# bert_model = \"huawei-noah/TinyBERT_General_4L_312D\"\n",
    "bert_model = \"bert-base-uncased\"\n",
    "model = AutoModelForSequenceClassification.from_pretrained(bert_model, num_labels=num_labels)\n",
    "\n",
    "\n",
    "# tokenize the dataset\n",
    "tokenizer = AutoTokenizer.from_pretrained(bert_model) \n",
    "\n",
    "def tokenize_function(dataset):\n",
    "    return tokenizer(dataset['text'], padding='max_length', truncation=True, max_length=512)\n",
    "\n",
    "em_train_dataset = em_train_dataset.map(tokenize_function, batched=True)\n",
    "em_val_dataset = em_val_dataset.map(tokenize_function, batched=True)\n",
    "\n",
    "def compute_metrics(pred):\n",
    "    labels = pred.label_ids\n",
    "    preds = pred.predictions.argmax(-1)\n",
    "    f1_micro= f1_score(labels, preds, average='micro')\n",
    "    f1_macro= f1_score(labels, preds, average='macro')\n",
    "    acc = accuracy_score(labels, preds)\n",
    "    conf_mat = confusion_matrix(labels, preds)\n",
    "    # Plot the confusion matrix\n",
    "    cm_display = ConfusionMatrixDisplay(conf_mat).plot(include_values=True)\n",
    "    plt.show()\n",
    "    return {\n",
    "        'accuracy': acc,\n",
    "        # 'precision': precision,\n",
    "        # 'recall': recall,\n",
    "        'f1_micro': f1_micro,\n",
    "        'f1_macro': f1_macro\n",
    "    }\n",
    "\n",
    "# frozen parameters\n",
    "model = AutoModelForSequenceClassification.from_pretrained(bert_model, num_labels=4).eval()\n",
    "fine_tune_fr = Trainer(\n",
    "    model=model,\n",
    "    args=training_args,\n",
    "    train_dataset=em_train_dataset,\n",
    "    eval_dataset=em_val_dataset,\n",
    "    compute_metrics=compute_metrics,\n",
    ")\n",
    "fine_tune_fr.train()\n",
    "\n",
    "eval_results_frozen = fine_tune_fr.evaluate()\n",
    "print(f\"Frozen: Micro F1 Score = {eval_results_frozen['eval_f1_micro']} Frozen: Macro F1 Score = {eval_results_frozen['eval_f1_macro']} Accuracy = {eval_results_frozen['eval_accuracy']}\")\n",
    "\n",
    "# Train the model with unfrozen parameters\n",
    "model = AutoModelForSequenceClassification.from_pretrained(bert_model, num_labels=4)\n",
    "fine_tune_unfr = Trainer(\n",
    "    model=model,\n",
    "    args=training_args,\n",
    "    train_dataset=em_train_dataset,\n",
    "    eval_dataset=em_val_dataset,\n",
    "    compute_metrics=compute_metrics,\n",
    ")\n",
    "fine_tune_unfr.train()\n",
    "\n",
    "eval_results_unfrozen = fine_tune_unfr.evaluate()\n",
    "print(f\"Unfrozen: Micro F1 Score = {eval_results_unfrozen['eval_f1_micro']} Frozen: Macro F1 Score = {eval_results_unfrozen['eval_f1_macro']} Accuracy = {eval_results_unfrozen['eval_accuracy']}\")"
   ]
  },
  {
   "cell_type": "markdown",
   "id": "48f1661d-a203-42ee-8681-025f2bdfe661",
   "metadata": {},
   "source": [
    "There are two type of transfer used here. Frozen parameter fine-tuning measns that it is just the final layer that is trained which if beneficial for training to small datasets that are not significantly different from the original dataset.\n",
    "\n",
    "Unfrozen parameter fine-tuning allows all parameters to be updating with training of the new dataset. This is good for large datasets or if the dataset used for fine-tuning is significantly different from the one used to orignially train the model. "
   ]
  },
  {
   "cell_type": "code",
   "execution_count": 59,
   "id": "11fcdc69-ce30-4eb3-afc5-4eeba41b40db",
   "metadata": {},
   "outputs": [
    {
     "name": "stdout",
     "output_type": "stream",
     "text": [
      "anger: 8.767021063249558e-05\n",
      "joy: 0.001831050612963736\n",
      "optimism: 0.9980108141899109\n",
      "sadness: 7.044721860438585e-05\n"
     ]
    },
    {
     "name": "stderr",
     "output_type": "stream",
     "text": [
      "/var/folders/8b/nnqddvld60bdl36420tfgj5m0000gn/T/ipykernel_81222/225683249.py:16: UserWarning: To copy construct from a tensor, it is recommended to use sourceTensor.clone().detach() or sourceTensor.clone().detach().requires_grad_(True), rather than torch.tensor(sourceTensor).\n",
      "  output = trained_model(attention_mask=torch.tensor(test_dataset[\"attention_mask\"]), input_ids=torch.tensor(test_dataset[\"input_ids\"]))\n"
     ]
    }
   ],
   "source": [
    "from torch.nn.functional import softmax\n",
    "\n",
    "# sentence = \"Finally nailed that tricky piece of code after hours of head-scratching, and the feeling of triumph is absolutely electric! 🥳 There's nothing quite like the rush of solving a puzzle and watching your creation come to life. Pure joy!\"\n",
    "sentence = \"A torch lights up the night A torch shows the way A torch can be put out And never shine again A torch can be passed From one to another A torch can light the way To a new tomorrow\"\n",
    "\n",
    "inputs = tokenizer(sentence, return_tensors=\"pt\", padding='max_length', truncation=True, max_length=512)\n",
    "\n",
    "inputs = {k: v.to(model.device) for k, v in inputs.items()}\n",
    "\n",
    "def predict_nn(trained_model, test_dataset):\n",
    "    # Switch off dropout\n",
    "    trained_model.eval()\n",
    "    \n",
    "    # Pass the required items from the dataset to the model    \n",
    "    output = trained_model(attention_mask=torch.tensor(test_dataset[\"attention_mask\"]), input_ids=torch.tensor(test_dataset[\"input_ids\"]))\n",
    "                        \n",
    "    # Apply softmax to the logits to get probabilities\n",
    "    probs = softmax(output.logits, dim=-1)\n",
    "    \n",
    "    # Convert the probabilities to a Python list\n",
    "    probs = probs.tolist()\n",
    "\n",
    "    return probs\n",
    "\n",
    "probabilities = predict_nn(model, inputs)\n",
    "\n",
    "labels = ['anger', 'joy', 'optimism', 'sadness']\n",
    "\n",
    "probabilities\n",
    "\n",
    "for label, prob in zip(labels, probabilities[0]):\n",
    "    print(f\"{label}: {prob}\")\n"
   ]
  }
 ],
 "metadata": {
  "kernelspec": {
   "display_name": "Python 3 (ipykernel)",
   "language": "python",
   "name": "python3"
  },
  "language_info": {
   "codemirror_mode": {
    "name": "ipython",
    "version": 3
   },
   "file_extension": ".py",
   "mimetype": "text/x-python",
   "name": "python",
   "nbconvert_exporter": "python",
   "pygments_lexer": "ipython3",
   "version": "3.9.18"
  }
 },
 "nbformat": 4,
 "nbformat_minor": 5
}

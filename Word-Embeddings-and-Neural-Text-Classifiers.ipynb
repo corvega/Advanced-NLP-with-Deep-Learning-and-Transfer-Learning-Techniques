{
 "cells": [
  {
   "cell_type": "markdown",
   "id": "c549d0b9-84d1-4d35-80b1-6341a3ea7ce6",
   "metadata": {},
   "source": [
    "# Word Embeddings and Neural Text Classifiers"
   ]
  },
  {
   "cell_type": "markdown",
   "id": "df1a8852-b72a-48dd-a266-25a4bb774f6a",
   "metadata": {},
   "source": [
    "In this section use both sparse vectors and dense word2vec embeddings are used to obtain\n",
    "vector representations of words and documents. \n",
    "\n",
    "This uses the `tweet eval` offensive speech dataset. This is a binary classification task, where the aim is to classify text as offensive or not. Some examples are controversial, which adds additional challenge. "
   ]
  },
  {
   "cell_type": "code",
   "execution_count": 82,
   "id": "5519c4b9-1cac-4e8a-9e7e-a8a40b389bdf",
   "metadata": {
    "jupyter": {
     "outputs_hidden": false
    },
    "pycharm": {
     "name": "#%%\n"
    }
   },
   "outputs": [
    {
     "name": "stdout",
     "output_type": "stream",
     "text": [
      "The autoreload extension is already loaded. To reload it, use:\n",
      "  %reload_ext autoreload\n"
     ]
    }
   ],
   "source": [
    "import numpy as np\n",
    "import torch\n",
    "from datasets import load_dataset\n",
    "from tqdm import tqdm\n",
    "from sklearn.feature_extraction.text import CountVectorizer\n",
    "from gensim.models import word2vec\n",
    "from gensim.utils import tokenize\n",
    "import gensim.downloader\n",
    "import matplotlib.pyplot as plt\n",
    "\n",
    "%load_ext autoreload\n",
    "%autoreload 2"
   ]
  },
  {
   "cell_type": "code",
   "execution_count": 83,
   "id": "e599bf09-ed1a-4e40-a551-2e3a889a3487",
   "metadata": {},
   "outputs": [
    {
     "name": "stdout",
     "output_type": "stream",
     "text": [
      "Training dataset with 11916 instances loaded\n",
      "Development/validation dataset with 1324 instances loaded\n",
      "Test dataset with 860 instances loaded\n"
     ]
    },
    {
     "name": "stderr",
     "output_type": "stream",
     "text": [
      "100%|██████████| 11916/11916 [00:00<00:00, 34282.64it/s]\n"
     ]
    },
    {
     "name": "stdout",
     "output_type": "stream",
     "text": [
      "The vocabulary has 18010 words\n",
      "Index of \"love\" is 9702\n"
     ]
    }
   ],
   "source": [
    "cache_dir = \"./data_cache\"\n",
    "\n",
    "train_dataset = load_dataset(\n",
    "    \"tweet_eval\",\n",
    "    name=\"offensive\",\n",
    "    split=\"train\",\n",
    "    cache_dir=cache_dir,\n",
    ")\n",
    "\n",
    "print(f\"Training dataset with {len(train_dataset)} instances loaded\")\n",
    "\n",
    "\n",
    "dev_dataset = load_dataset(\n",
    "    \"tweet_eval\",\n",
    "    name=\"offensive\",\n",
    "    split=\"validation\",\n",
    "    cache_dir=cache_dir,\n",
    ")\n",
    "\n",
    "print(f\"Development/validation dataset with {len(dev_dataset)} instances loaded\")\n",
    "\n",
    "\n",
    "test_dataset = load_dataset(\n",
    "    \"tweet_eval\",\n",
    "    name=\"offensive\",\n",
    "    split=\"test\",\n",
    "    cache_dir=cache_dir,\n",
    ")\n",
    "\n",
    "print(f\"Test dataset with {len(test_dataset)} instances loaded\")\n",
    "\n",
    "# Put the data into lists ready for the next steps...\n",
    "train_texts = []\n",
    "train_labels = []\n",
    "for i in tqdm(range(len(train_dataset))):\n",
    "    train_texts.append(train_dataset[i]['text'])\n",
    "    train_labels.append(train_dataset[i]['label'])\n",
    "            \n",
    "# HINT: A count vectorizer object may be useful in later steps\n",
    "vectorizer = CountVectorizer()\n",
    "vectorizer.fit(train_texts)\n",
    "\n",
    "# Get the vocabulary\n",
    "vocab = vectorizer.vocabulary_\n",
    "vocab_size = len(vocab)\n",
    "print(f'The vocabulary has {vocab_size} words')\n",
    "\n",
    "# invert the vocabulary dictionary so we can look up word types given an index\n",
    "keys = vocab.values()\n",
    "values = vocab.keys()\n",
    "vocab_inverted = dict(zip(keys, values))\n",
    "\n",
    "print(f'Index of \"love\" is {vocab[\"love\"]}')"
   ]
  },
  {
   "cell_type": "markdown",
   "id": "f8a63c3c-d24c-4810-9c34-4532b845e310",
   "metadata": {
    "tags": []
   },
   "source": [
    "## 1.1. Term-Document Matrix\n",
    "\n",
    "First we obtain sparse word vectors from a term-document matrix."
   ]
  },
  {
   "cell_type": "markdown",
   "id": "bcd30abb-0951-46ee-81a6-b9217fba6b90",
   "metadata": {},
   "source": [
    "Here we use CountVectorizer to obtain a term-document matrix for the training set. Then, we have a function that takes a word as an argument and returns its term vector from the term-document matrix you computed. As an example we get the term vector for the word 'lying', which may sometimes be associated with offensive text."
   ]
  },
  {
   "cell_type": "code",
   "execution_count": 84,
   "id": "52a52da7-89a5-41d6-bfab-83b3231d6949",
   "metadata": {},
   "outputs": [
    {
     "data": {
      "text/plain": [
       "array([0, 0, 0, ..., 0, 0, 0])"
      ]
     },
     "execution_count": 84,
     "metadata": {},
     "output_type": "execute_result"
    }
   ],
   "source": [
    "# generating a term-document matrix for the training data using the count vectorizer from sklearn\n",
    "vectorizer = CountVectorizer()\n",
    "term_document_matrix = vectorizer.fit_transform(train_texts)\n",
    "\n",
    "# A function that will take a word, look up its index in the vocabulary of the vectorizer, and return the term vector for that word\n",
    "def get_word_vector(word):\n",
    "    vocabulary = vectorizer.vocabulary_\n",
    "    word_column = vocabulary[word]\n",
    "    # flatten is used to ensure the output is always a 1D array\n",
    "    vector = term_document_matrix[:, word_column].toarray().flatten()\n",
    "    return(vector)\n",
    "\n",
    "# call the function to get the term vector for the word 'lying'\n",
    "get_word_vector('lying')"
   ]
  },
  {
   "cell_type": "code",
   "execution_count": 85,
   "id": "a286c6e1-f3e9-4c40-b968-0c24eb8dbaa9",
   "metadata": {},
   "outputs": [],
   "source": [
    "# Define a list of words for comparison with 'lying' in the next to-do.\n",
    "comparison_words = [\n",
    "'squalor',\n",
    "'climbing',\n",
    "'lining',\n",
    "'harf',\n",
    "'outright',\n",
    "'bud',\n",
    "'tooo',\n",
    "'subpoenaed',\n",
    "'estate',\n",
    "'jaclyn',\n",
    "'ladder',\n",
    "'nutjob',\n",
    "'scarborough',\n",
    "'antifascism',\n",
    "'presumably',\n",
    "'lying',\n",
    "'bullsh',\n",
    "'sombody',\n",
    "'humiliated',\n",
    "'is',\n",
    "'weight',\n",
    "'faiths',\n",
    "'semite',\n",
    "'mondy',\n",
    "'licked',\n",
    "'garak',\n",
    "'wants',\n",
    "'sullied',\n",
    "'qalert',\n",
    "'sleaze',\n",
    "'frankly',\n",
    "'civilians',\n",
    "'roles',\n",
    "'sticking',\n",
    "'meltdown',\n",
    "'children',\n",
    "'robotic',\n",
    "'idiotalert',\n",
    "'unto',\n",
    "'presentation',\n",
    "'vicki',\n",
    "'brag',\n",
    "'three',\n",
    "'macy',\n",
    "'diplomacy',\n",
    "'blight',\n",
    "'masturbate',\n",
    "'cheater',\n",
    "'shallow',\n",
    "'mensch',\n",
    "'harshest',\n",
    "'birds',\n",
    "'cultivated',\n",
    "'warming',\n",
    "'dummy',\n",
    "'totalitarianism',\n",
    "'thgs',\n",
    "'restrictions',\n",
    "'place',\n",
    "'jfk',\n",
    "'blabber',\n",
    "'ww2',\n",
    "'investing',\n",
    "'enabler',\n",
    "'mango',\n",
    "'suspicion',\n",
    "'goober',\n",
    "'chaplain',\n",
    "'dish',\n",
    "'colluding',\n",
    "'cincy',\n",
    "'sutherland',\n",
    "'leader',\n",
    "'sporting',\n",
    "'christianity',\n",
    "'happens',\n",
    "'fought4',\n",
    "'sidelines',\n",
    "'bashthefash',\n",
    "'corrected',\n",
    "'murdoch',\n",
    "'movie',\n",
    "'increased',\n",
    "'undies',\n",
    "'passions',\n",
    "'whos',\n",
    "'profiles',\n",
    "'lots',\n",
    "'diners',\n",
    "'blade',\n",
    "'dipshits',\n",
    "'welles',\n",
    "'midriff',\n",
    "'signage',\n",
    "'foodnetwork',\n",
    "'sooooo', \n",
    "'however', \n",
    "'younger', \n",
    "'aint', \n",
    "'supposedly'\n",
    "]\n"
   ]
  },
  {
   "cell_type": "markdown",
   "id": "8fb324d8-a92a-4fd7-bd7f-f3b0f0958e6b",
   "metadata": {},
   "source": [
    "This function computes the similarity between two different term vectors. We then use the function to find the five most similar terms to \"love\" from the list of `comparison_words` given above."
   ]
  },
  {
   "cell_type": "markdown",
   "id": "e8cffab4",
   "metadata": {},
   "source": [
    "$\\text{similarity}(X,Y) = \\cos(\\theta) = \\frac{X \\cdot Y}{||X|| \\space ||Y||}$\n",
    "\n",
    "$||X||$ is the magnitude of vector $X$, $||X|| = \\sqrt{X^2_1 + X^2_1 ... X^n_1}$"
   ]
  },
  {
   "cell_type": "code",
   "execution_count": 86,
   "id": "3a2cca67-685e-4760-92be-eea50ed87769",
   "metadata": {
    "jupyter": {
     "outputs_hidden": false
    },
    "pycharm": {
     "name": "#%%\n"
    }
   },
   "outputs": [
    {
     "data": {
      "text/plain": [
       "['is', 'midriff', 'semite', 'presentation', 'aint']"
      ]
     },
     "execution_count": 86,
     "metadata": {},
     "output_type": "execute_result"
    }
   ],
   "source": [
    "def vector_cosine_similarity(X,Y):\n",
    "    # dot product\n",
    "    dot_product = np.dot(X,Y)\n",
    "    # magintudes\n",
    "    X_mag = np.sqrt(np.sum(X**2))\n",
    "    Y_mag = np.sqrt(np.sum(Y**2))\n",
    "    # cosine similarity\n",
    "    similarity = dot_product / (X_mag * Y_mag)\n",
    "    return(similarity)\n",
    "\n",
    "def similar_words(given_word, n):\n",
    "    given_vector = get_word_vector(given_word)\n",
    "    similarities = []\n",
    "\n",
    "    for word in comparison_words:\n",
    "        comparison_vector = get_word_vector(word)\n",
    "        similarity = vector_cosine_similarity(given_vector, comparison_vector)\n",
    "        similarities.append((similarity,word))\n",
    "\n",
    "    similarities.sort(key=lambda x: x[0], reverse=True)\n",
    "    top_n = similarities[:n]\n",
    "    return([word for _, word in top_n])\n",
    "\n",
    "similar_words('love',5)"
   ]
  },
  {
   "cell_type": "markdown",
   "id": "b9654fde-cbe7-4020-99f7-49d97b4eacfa",
   "metadata": {},
   "source": [
    "## 1.2 Word Embeddings"
   ]
  },
  {
   "cell_type": "markdown",
   "id": "5e772ce7-853e-478d-9d0a-3f591100e88d",
   "metadata": {},
   "source": [
    "Now, we will use Gensim to train a word2vec model. The code below tokenizes the training texts, then runs word2vec (the skipgram model) to learn a set of embeddings. "
   ]
  },
  {
   "cell_type": "code",
   "execution_count": 87,
   "id": "7b5d13e1-683f-41f6-bf24-7c036aef59fa",
   "metadata": {
    "jupyter": {
     "outputs_hidden": false
    },
    "pycharm": {
     "is_executing": true,
     "name": "#%%\n"
    }
   },
   "outputs": [],
   "source": [
    "tokenized_texts = [list(tokenize(text)) for text in train_texts]\n",
    "emb_model = word2vec.Word2Vec(tokenized_texts, sg=1, min_count=1, window=3, vector_size=100)"
   ]
  },
  {
   "cell_type": "code",
   "execution_count": 88,
   "id": "989624ac-dc98-461f-a5ad-c28cf27ca085",
   "metadata": {
    "pycharm": {
     "is_executing": true,
     "name": "#%%\n"
    },
    "tags": []
   },
   "outputs": [],
   "source": [
    "# get the word vector for 'love'\n",
    "love_embedding = emb_model.wv['love']"
   ]
  },
  {
   "cell_type": "markdown",
   "id": "8ccd66ea-cbbe-4c1a-a467-5a784facf33b",
   "metadata": {},
   "source": [
    "Here we find the five most similar words to 'lying' according to your word2vec model. We can use the Gensim function `similar_by_word` to do this. We can then compare how Word2Vec top 5 differ from the top 5 comparison words found using the term-document matrix?\n",
    "\n",
    "The 5 most similar words are:\n",
    "- guilty\n",
    "- victim\n",
    "- evil\n",
    "- innocent\n",
    "- upset\n",
    "\n",
    "Word2Vec is able to preserve the semantic meanings and realtionships between words. This means the top 5 words a chosen based on their contextual usage. Term-document matrix just uses the frequecy of terms so will not captuire context. The top 5 words here are the ones that appear most frequently together in the same document. \n"
   ]
  },
  {
   "cell_type": "code",
   "execution_count": 89,
   "id": "dc37a093-db74-4e10-9224-0740381b30fe",
   "metadata": {},
   "outputs": [
    {
     "data": {
      "text/plain": [
       "[('dead', 0.9827289581298828),\n",
       " ('telling', 0.9823184013366699),\n",
       " ('horrible', 0.982153594493866),\n",
       " ('half', 0.9812731146812439),\n",
       " ('making', 0.9796337485313416)]"
      ]
     },
     "execution_count": 89,
     "metadata": {},
     "output_type": "execute_result"
    }
   ],
   "source": [
    "emb_model.wv.similar_by_word('lying',5)"
   ]
  },
  {
   "cell_type": "markdown",
   "id": "eb28de29-ee93-47e9-ba62-de7771d7203d",
   "metadata": {
    "pycharm": {
     "name": "#%% md\n"
    }
   },
   "source": [
    "Above, we trained our own model using the skipgram method. We can also download a pretrained model that has previously been trained on a large corpus. There is a list of models available [here](https://radimrehurek.com/gensim/models/word2vec.html#pretrained-models). Here we will try out GLoVe embeddings. GLoVe is an alternative to the skipgram model. This model was trained on a corpus of tweets:"
   ]
  },
  {
   "cell_type": "code",
   "execution_count": 90,
   "id": "693126a6-519a-44c1-b800-773fc95d38df",
   "metadata": {},
   "outputs": [
    {
     "name": "stdout",
     "output_type": "stream",
     "text": [
      "[-0.62645  -0.082389  0.070538  0.5782   -0.87199  -0.14816   2.2315\n",
      "  0.98573  -1.3154   -0.34921  -0.8847    0.14585  -4.97     -0.73369\n",
      " -0.94359   0.035859 -0.026733 -0.77538  -0.30014   0.48853  -0.16678\n",
      " -0.016651 -0.53164   0.64236  -0.10922 ]\n"
     ]
    }
   ],
   "source": [
    "glove_wv = gensim.downloader.load('glove-twitter-25')\n",
    "\n",
    "# show the vector for love:\n",
    "print(glove_wv['love'])"
   ]
  },
  {
   "cell_type": "markdown",
   "id": "dbcbeb21-549d-4315-bce1-e785cda13fd2",
   "metadata": {},
   "source": [
    "Here we show the most similar five words to 'happy' according to the GloVe Twitter model."
   ]
  },
  {
   "cell_type": "code",
   "execution_count": 91,
   "id": "6893470a-08b7-4f44-b5f0-8faddb91ae85",
   "metadata": {},
   "outputs": [
    {
     "data": {
      "text/plain": [
       "[('birthday', 0.9577818512916565),\n",
       " ('thank', 0.937666654586792),\n",
       " ('welcome', 0.9336148500442505),\n",
       " ('love', 0.9176183342933655),\n",
       " ('miss', 0.9164500832557678)]"
      ]
     },
     "execution_count": 91,
     "metadata": {},
     "output_type": "execute_result"
    }
   ],
   "source": [
    "glove_wv.similar_by_word('happy',5)"
   ]
  },
  {
   "cell_type": "markdown",
   "id": "bc39168a-7b01-4171-beb2-8a4bf035fd71",
   "metadata": {},
   "source": [
    "Notice again that a different set of words are favoured than with word2vec or term-document vectors, and consider how this might result from pretraining the embeddings on Twitter data."
   ]
  },
  {
   "cell_type": "markdown",
   "id": "421d24e4-d90d-4f50-a167-5f4876076355",
   "metadata": {},
   "source": [
    "# 2. Neural Text Classifiers\n",
    "\n",
    "This section shows how to implement a neural network classifier using Pytorch and leads you through the steps required to process text sequences.\n",
    "\n",
    "There are several big advantages to building a text classifier using a neural network:\n",
    "   * It can model nonlinear functions, so can handle much more complex relationships between features and class labels.\n",
    "   * It performs representation learning: the hidden layers learn how to extract features from low-level data.\n",
    "   * It can process sequences of tokens -- we don't have to think in terms of a single feature vector representing a document as we did for logistic regression.\n",
    "  \n",
    "The downsides are:\n",
    "   * Much more expensive to train and test.\n",
    "   * It can overfit very badly to small datasets.\n",
    "   * The features learned by the hidden layers can be hard to interpret, which can make it hard to predict the model's behaviour, e.g., what sort of cases it may fail on.\n",
    "   \n",
    "Let's start by building a neural network text classifier that takes a sequence of tokens as input, and predicts a class label. For simplicity, it will use a single fully connected feedforward layer. "
   ]
  },
  {
   "cell_type": "markdown",
   "id": "9ca4f88e-bd86-4917-8e9d-26ace635873e",
   "metadata": {},
   "source": [
    "\n",
    "We are going to construct the neural network in this form:\n",
    "\n",
    "<img src=\"neural_text_classifier_smaller.png\" alt=\"Neural text classifier diagram\" width=\"600px\"/>\n",
    "\n",
    "The first step -- as always -- is to get our data into the right format. We start from a set of tokenised documents (in this case, tweets), where each document is represented as a sequence of text tokens. The neural network cannot process the tokens as strings, so we need to convert each token to a numerical input value. The input value for each token is used to look up the corresponding embedding in the embedding layer. For PyTorch, it's not necessary to create one-hot vectors for each token, as library just uses the indexes of the words in the vocabulary to look up the corresponding word embedding. \n",
    "\n",
    "So, let's now map the tokens to their IDs -- their indexes in the vocabulary:"
   ]
  },
  {
   "cell_type": "code",
   "execution_count": 92,
   "id": "42a71101-e504-42a8-9862-74796af52cd0",
   "metadata": {
    "jupyter": {
     "outputs_hidden": false
    },
    "pycharm": {
     "name": "#%%\n"
    }
   },
   "outputs": [
    {
     "data": {
      "text/plain": [
       "11916"
      ]
     },
     "execution_count": 92,
     "metadata": {},
     "output_type": "execute_result"
    }
   ],
   "source": [
    "# tokenize training set and convert to input IDs.\n",
    "def encode_text(sample):\n",
    "    tokens = tokenize(sample['text'])  # Tokenize one document\n",
    "    \n",
    "    input_ids = []\n",
    "    for token in tokens:\n",
    "        if str.lower(token) in vocab:  # Skip words from the dev/test set that are not in the vocabulary.\n",
    "            input_ids.append(vocab[str.lower(token)]+1) # +1 is needed because we reserve 0 as a special character\n",
    "            \n",
    "    sample['input_ids'] = input_ids \n",
    "    return sample\n",
    "\n",
    "# The map method of the dataset object takes a function as its argument, \n",
    "# and applies that function to each document in the dataset.\n",
    "train_dataset = train_dataset.map(encode_text)\n",
    "len(train_dataset)"
   ]
  },
  {
   "cell_type": "markdown",
   "id": "c3ce8d8c-ce83-49b7-9b88-b84233be7dbf",
   "metadata": {},
   "source": [
    "Our neural network's input layer has a fixed size, so we need to make all of our documents have the same number of tokens. Let's plot a histogram to understand the length distribution of the texts in the training set:"
   ]
  },
  {
   "cell_type": "code",
   "execution_count": 93,
   "id": "832da949-3fec-4d26-936e-23c943546b68",
   "metadata": {},
   "outputs": [
    {
     "name": "stdout",
     "output_type": "stream",
     "text": [
      "Mean of the document length: 21.12294394091977\n",
      "Median of the document length: 17.0\n",
      "Maximum document length: 101\n"
     ]
    },
    {
     "data": {
      "text/plain": [
       "(array([3502., 3421., 2006., 1384., 1165.,  366.,   41.,   12.,   10.,\n",
       "           9.]),\n",
       " array([  1.,  11.,  21.,  31.,  41.,  51.,  61.,  71.,  81.,  91., 101.]),\n",
       " <BarContainer object of 10 artists>)"
      ]
     },
     "execution_count": 93,
     "metadata": {},
     "output_type": "execute_result"
    },
    {
     "data": {
      "image/png": "[encoded data removed]",
      "text/plain": [
       "<Figure size 640x480 with 1 Axes>"
      ]
     },
     "metadata": {},
     "output_type": "display_data"
    }
   ],
   "source": [
    "rv_l = [len(doc) for doc in train_dataset['input_ids']]\n",
    "print('Mean of the document length: {}'.format(np.mean(rv_l)))\n",
    "print('Median of the document length: {}'.format(np.median(rv_l)))\n",
    "print('Maximum document length: {}'.format(np.max(rv_l)))\n",
    "\n",
    "plt.hist(rv_l)"
   ]
  },
  {
   "cell_type": "markdown",
   "id": "da97d92c-7002-4b63-9011-8ed21ea52e95",
   "metadata": {
    "pycharm": {
     "name": "#%% md\n"
    }
   },
   "source": [
    "We now need to choose a fixed sequence length, then *pad* the documents that are shorter than this maximum by adding a special token to the start of the sequence. The special pad token has an input value of 0. Any documents that exceed the length will be truncated.\n",
    "\n",
    "Here we complete the padding code below to insert 0s at the start of any sequences that are too short, and to truncate any sequences that are too long."
   ]
  },
  {
   "cell_type": "code",
   "execution_count": 94,
   "id": "a8488dfa-61b8-438e-92ee-7f9b84b27a68",
   "metadata": {
    "tags": []
   },
   "outputs": [],
   "source": [
    "sequence_length = 60  # truncate all docs longer than this. Pad all docs shorter than this.\n",
    "\n",
    "def pad_text(sample):\n",
    "    sample = sample['input_ids'] \n",
    "    if sequence_length >= len(sample):\n",
    "        for i in range(sequence_length - len(sample)):\n",
    "            sample = [0] * (sequence_length - len(sample)) + sample\n",
    "    else:\n",
    "        sample = sample[:sequence_length]\n",
    "    sample = {'input_ids': sample}\n",
    "    return sample\n",
    "\n",
    "# The map method will call pad_text for every document in the dataset\n",
    "train_dataset = train_dataset.map(pad_text)"
   ]
  },
  {
   "cell_type": "markdown",
   "id": "28fb33a1-ca74-4a95-bbd5-2b9e50167733",
   "metadata": {},
   "source": [
    "We now have our data in almost the right format! To train a model using PyTorch, we are going to wrap our dataset in a [DataLoader object](https://pytorch.org/docs/stable/data.html#torch.utils.data.DataLoader). This allows the training process to select random subsets of the dataset -- mini-batches -- which it will use for learning with mini-batch stochastic gradient descent."
   ]
  },
  {
   "cell_type": "code",
   "execution_count": 95,
   "id": "4ab3c226-402b-4eb5-8f9a-fe216b4c5da9",
   "metadata": {},
   "outputs": [],
   "source": [
    "from torch.utils.data import DataLoader, TensorDataset\n",
    "\n",
    "batch_size = 64\n",
    "\n",
    "# convert from the Huggingface format to a TensorDataset so we can use the mini-batch sampling functionality\n",
    "def convert_to_data_loader(dataset, num_classes):\n",
    "    # convert from list to tensor\n",
    "    input_tensor = torch.from_numpy(np.array(dataset['input_ids']))\n",
    "    label_tensor = torch.from_numpy(np.array(dataset['label'])).long()\n",
    "    tensor_dataset = TensorDataset(input_tensor, label_tensor)\n",
    "    loader = DataLoader(tensor_dataset, batch_size=batch_size, shuffle=True)\n",
    "\n",
    "    return loader\n",
    "\n",
    "num_classes = len(np.unique(train_labels))   # number of possible labels in the sentiment analysis task\n",
    "\n",
    "train_loader = convert_to_data_loader(train_dataset, num_classes)"
   ]
  },
  {
   "cell_type": "code",
   "execution_count": 96,
   "id": "54b4245a-52b8-4fa6-bfeb-75f3a3a704df",
   "metadata": {},
   "outputs": [
    {
     "data": {
      "text/plain": [
       "2"
      ]
     },
     "execution_count": 96,
     "metadata": {},
     "output_type": "execute_result"
    }
   ],
   "source": [
    "num_classes"
   ]
  },
  {
   "cell_type": "markdown",
   "id": "d1a5825c-4a0e-4fc8-9de6-504bc7227377",
   "metadata": {},
   "source": [
    "Let's process the development and test set as well."
   ]
  },
  {
   "cell_type": "code",
   "execution_count": 97,
   "id": "78aa6ddc-b936-431c-865e-dc55eaf3086c",
   "metadata": {},
   "outputs": [],
   "source": [
    "dev_dataset = dev_dataset.map(encode_text)\n",
    "dev_dataset = dev_dataset.map(pad_text)\n",
    "dev_loader = convert_to_data_loader(dev_dataset, num_classes)\n",
    "\n",
    "test_dataset = test_dataset.map(encode_text)\n",
    "test_dataset = test_dataset.map(pad_text)\n",
    "test_loader = convert_to_data_loader(test_dataset, num_classes)"
   ]
  },
  {
   "cell_type": "markdown",
   "id": "dd7b857f-5d57-44fd-a1b4-e1b31a009c72",
   "metadata": {},
   "source": [
    "As shown in the diagram above, we will build a NN with three different layers for sentiment classification.\n",
    "\n",
    "### Embedding layer\n",
    "In the embedding layer, the network will create its own embeddings for the index with a given embedding dimension.\n",
    "The module `nn.Embedding()` creates a simple lookup table that stores embeddings of a fixed dictionary and size.\n",
    "This module is often used to store word embeddings and retrieve them using indices.\n",
    "The module's input is a list of indices, and the output is the corresponding word embeddings.\n",
    "\n",
    "[Documentation for Embedding Class](https://pytorch.org/docs/stable/generated/torch.nn.Embedding.html)\n",
    "\n",
    "### Fully-connected layer\n",
    "Fully-connected layers in a neural network are those layers where all the inputs from the previous layer are connected to every unit of the fully-connected layer. Here we will use fully-connected layers for the hidden layer and output layer. In Pytorch this kind of layer is implemented by the 'Linear' class:\n",
    "\n",
    "https://pytorch.org/docs/stable/generated/torch.nn.Linear.html\n",
    "\n",
    "## Activation functions\n",
    "In Pytorch, the activation function is not included in the Linear class (or other kinds of neural network layer), so we need to explicitly connect each layer to an activation function.\n",
    "In Pytorch, we construct a neural network by connecting up the output of each component to the input of the next, thereby creating a computation graph.\n",
    "To complete the hidden layer, we connect the ouput of the linear layer to a ReLU activation function, thereby creating a nonlinear function.\n",
    "\n",
    "The cell below defines a class for our neural text classifier. The constructor creates each of the layers and the activations. The dimensions of each layer need to be correct so that the output of one layer can be passed as input to the next, but the code is not yet complete.\n",
    "\n",
    "Below the constructor is the forward method. This is called in the 'forward pass' to map the neural network's inputs to its outputs. In PyTorch, we pass data through each layer of the model, connecting them together, then returning the output of the final layer.\n",
    "\n",
    "Here we complete the constructor and the forward method below for a NN with three layers. The places where you need to add code are marked in the cell below. Refer to the Pytorch documentation for additional help."
   ]
  },
  {
   "cell_type": "code",
   "execution_count": 98,
   "id": "e38a13cf-4b4d-4ac2-868c-8ad5c1b72b7f",
   "metadata": {},
   "outputs": [],
   "source": [
    "from torch import nn\n",
    "\n",
    "class FFTextClassifier(nn.Module):\n",
    "    \n",
    "    def __init__(self, vocab_size, sequence_length, embedding_size, hidden_size, num_classes):\n",
    "        super(FFTextClassifier, self).__init__()\n",
    "\n",
    "        self.embedding_size = embedding_size\n",
    "\n",
    "        # Here we just need to construct the components of our network. We don't need to connect them together yet.\n",
    "        self.embedding_layer = nn.Embedding(vocab_size, embedding_size) # embedding layer\n",
    "        \n",
    "        ### COMPLETE THE CODE HERE: WRITE IN THE MISSING ARGUMENTS SPECIFYING THE DIMENSIONS OF EACH LAYER\n",
    "        self.hidden_layer = nn.Linear(self.embedding_size*sequence_length,hidden_size) # Fully connected hidden layer\n",
    "        self.activation = nn.ReLU() # Hidden layer\n",
    "        ##########\n",
    "        \n",
    "        self.output_layer = nn.Linear(hidden_size, num_classes) # Fully connected output layer\n",
    "\n",
    "        \n",
    "        \n",
    "    def forward (self, input_words):\n",
    "        # Input dimensions are:  (batch_size, seq_length)\n",
    "        embedded_words = self.embedding_layer(input_words)  # (batch_size, seq_length, embedding_size)\n",
    "\n",
    "        # flatten the sequence of embedding vectors for each document into a single vector.\n",
    "        embedded_words = embedded_words.reshape(embedded_words.shape[0], sequence_length*self.embedding_size)  # batch_size, seq_length*embedding_size\n",
    "\n",
    "        z = self.hidden_layer(embedded_words)   # (batch_size, hidden_size)\n",
    "        \n",
    "        ### ADD THE MISSING LINE HERE\n",
    "        h = self.activation(z)\n",
    "        ########\n",
    "\n",
    "        output = self.output_layer(h)                      # (batch_size, num_classes)\n",
    "\n",
    "        # Notice we haven't applied a softmax activation to the output layer -- it's not required by Pytorch's loss function.\n",
    "\n",
    "        return output"
   ]
  },
  {
   "cell_type": "markdown",
   "id": "a06f22db-b953-4f98-920f-3f9a2b1e3707",
   "metadata": {},
   "source": [
    "Now the class is complete. \n",
    "\n",
    "In the next cell, we create a NN with the FFTextClassifier class we wrote."
   ]
  },
  {
   "cell_type": "code",
   "execution_count": 99,
   "id": "a52d795a-adbc-4c48-aadf-f911520ac42c",
   "metadata": {},
   "outputs": [],
   "source": [
    "vocab_size = len(vectorizer.vocabulary_) + 1\n",
    "embedding_size = 10  # number of dimensions for embeddings\n",
    "hidden_size = 8 # number of hidden units\n",
    "\n",
    "model = FFTextClassifier(vocab_size, sequence_length, embedding_size, hidden_size, num_classes)"
   ]
  },
  {
   "cell_type": "markdown",
   "id": "82a6c48d-f2b4-45e6-838e-d08c895f7e86",
   "metadata": {},
   "source": [
    "After desigining our network, we need to create a training function to calculate the loss for each input and perform backpropagation to optimise the network.\n",
    "During training, the weights of all the layers will be updated.\n",
    "\n",
    "Below, we build a training function to train the NN over a fixed number of epochs (an epoch is one iteration over the whole training dataset).\n",
    "The function also prints the performance of both training and development/validation set after each epoch.\n",
    "\n",
    "Here we use cross-entropy loss, which is the standard loss function for classification that we also used for logistic regression. The module `nn.CrossEntropyLoss()` operates directly on the output of our output layer, so we don't have to implement the softmax layer within the forward() method.\n",
    "\n",
    "Cross Entropy Loss: https://pytorch.org/docs/stable/generated/torch.nn.CrossEntropyLoss.html\n",
    "\n",
    "The optimizer object implements a particular algorithm for updating the weights. Here, we will use the Adam optimizer, which is a variant of stochastic gradient descent method that tends to find a better solution in a smaller number of iterations than standard SGD.\n",
    "\n",
    "Optimization: https://pytorch.org/docs/stable/optim.html\n",
    "\n",
    "The cell below defines a training function for our classifier:"
   ]
  },
  {
   "cell_type": "code",
   "execution_count": 100,
   "id": "0bd5ec2f",
   "metadata": {},
   "outputs": [],
   "source": [
    "from torch import optim\n",
    "\n",
    "def train_nn(num_epochs, model, train_dataloader, dev_dataloader):\n",
    "    \n",
    "    learning_rate = 0.0005  # learning rate for the gradient descent optimizer, related to the step size\n",
    "\n",
    "    loss_fn = nn.CrossEntropyLoss()  # create loss function object\n",
    "    optimizer = optim.Adam(model.parameters(), lr=learning_rate)  # create the optimizer\n",
    "    \n",
    "    all_train_losses = []\n",
    "    all_dev_losses = []\n",
    "    \n",
    "    for e in range(num_epochs):\n",
    "        # Track performance on the training set as we are learning...\n",
    "        total_correct = 0\n",
    "        total_trained = 0\n",
    "        train_losses = []\n",
    "\n",
    "        model.train()  # Put the model in training mode.\n",
    "\n",
    "        for i, (batch_input_ids, batch_labels) in enumerate(train_dataloader):\n",
    "            # Iterate over each batch of data\n",
    "            # print(f'batch no. = {i}')\n",
    "\n",
    "            optimizer.zero_grad()  # Reset the optimizer\n",
    "\n",
    "            # Use the model to perform forward inference on the input data.\n",
    "            # This will run the forward() function.\n",
    "            output = model(batch_input_ids)\n",
    "\n",
    "            # Compute the loss for the current batch of data\n",
    "            batch_loss = loss_fn(output, batch_labels)\n",
    "\n",
    "            # Perform back propagation to compute the gradients with respect to each weight\n",
    "            batch_loss.backward()\n",
    "\n",
    "            # Update the weights using the compute gradients\n",
    "            optimizer.step()\n",
    "\n",
    "            # Record the loss from this sample to keep track of progress.\n",
    "            train_losses.append(batch_loss.item())\n",
    "\n",
    "            # Count correct labels so we can compute accuracy on the training set\n",
    "            predicted_labels = output.argmax(1)\n",
    "            total_correct += (predicted_labels == batch_labels).sum().item()\n",
    "            total_trained += batch_labels.size(0)\n",
    "\n",
    "        train_accuracy = total_correct/total_trained*100\n",
    "\n",
    "        print(\"Epoch: {}/{}\".format((e+1), num_epochs),\n",
    "              \"Training Loss: {:.4f}\".format(np.mean(train_losses)),\n",
    "              \"Training Accuracy: {:.4f}%\".format(train_accuracy))\n",
    "        \n",
    "        # Average train loss for epoch\n",
    "        avg_train_loss = sum(train_losses) / len(train_losses)\n",
    "        all_train_losses.append(avg_train_loss)\n",
    "        \n",
    "        model.eval()  # turn model to evaluation mode\n",
    "        total_correct = 0\n",
    "        total_trained = 0\n",
    "        dev_losses = []\n",
    "\n",
    "        for dev_input_ids, dev_labels in dev_dataloader:\n",
    "            # Use the model to perform forward inference on the input data.\n",
    "            # This will run the forward() function.\n",
    "            dev_output = model(dev_input_ids)\n",
    "\n",
    "            # Compute the loss for the current batch of data\n",
    "            dev_loss = loss_fn(dev_output, dev_labels)\n",
    "\n",
    "            # Record the loss from this sample to keep track of progress.\n",
    "            dev_losses.append(dev_loss.item())\n",
    "            \n",
    "            # Count the number of correct predictions\n",
    "            predicted_labels = dev_output.argmax(1)\n",
    "            total_correct += (predicted_labels == dev_labels).sum().item()\n",
    "            total_trained += dev_labels.size(0)\n",
    "            \n",
    "        dev_accuracy = total_correct/total_trained*100\n",
    "        \n",
    "        # Average dev loss for epoch\n",
    "        avg_dev_loss = sum(dev_losses) / len(dev_losses)\n",
    "        all_dev_losses.append(avg_dev_loss)\n",
    "        ##        \n",
    "        print(\"Epoch: {}/{}\".format((e+1), num_epochs),\n",
    "              \"Validation Loss: {:.4f}\".format(np.mean(dev_losses)),\n",
    "              \"Validation Accuracy: {:.4f}%\".format(dev_accuracy))\n",
    "\n",
    "    return model, all_train_losses, all_dev_losses"
   ]
  },
  {
   "cell_type": "markdown",
   "id": "2e473f92-78d4-4a5d-94cc-749165e3896e",
   "metadata": {},
   "source": [
    "Here we modify the training function above to return the training and development (or 'validation') losses at each epoch. We train the network for 15 epochs and plot the losses. Describe what the plot shows, and how you could use this information to improve the training process.\n",
    "\n",
    "The plot shows that the training loss continues to decrease for each epoch, however the validation loss remains fairly consistent for the first 4 epochs and then begins to increase. The increase in validation loss suggests that the model is overfitting. This could suggest that the training process could be improved by reducing the complexity of the model or add early stopping to prevent the model from overfitting when the validation loss starts to decrease. "
   ]
  },
  {
   "cell_type": "code",
   "execution_count": 101,
   "id": "5ac7c289-fae8-4045-b18c-8db7e678214e",
   "metadata": {},
   "outputs": [
    {
     "name": "stdout",
     "output_type": "stream",
     "text": [
      "Epoch: 1/15 Training Loss: 0.6329 Training Accuracy: 66.9268%\n",
      "Epoch: 1/15 Validation Loss: 0.6382 Validation Accuracy: 65.3323%\n",
      "Epoch: 2/15 Training Loss: 0.6278 Training Accuracy: 66.9268%\n",
      "Epoch: 2/15 Validation Loss: 0.6365 Validation Accuracy: 65.3323%\n",
      "Epoch: 3/15 Training Loss: 0.6216 Training Accuracy: 67.1450%\n",
      "Epoch: 3/15 Validation Loss: 0.6345 Validation Accuracy: 64.7281%\n",
      "Epoch: 4/15 Training Loss: 0.6146 Training Accuracy: 68.0849%\n",
      "Epoch: 4/15 Validation Loss: 0.6389 Validation Accuracy: 64.8792%\n",
      "Epoch: 5/15 Training Loss: 0.6044 Training Accuracy: 68.8570%\n",
      "Epoch: 5/15 Validation Loss: 0.6469 Validation Accuracy: 64.8792%\n",
      "Epoch: 6/15 Training Loss: 0.5929 Training Accuracy: 69.6459%\n",
      "Epoch: 6/15 Validation Loss: 0.6581 Validation Accuracy: 64.4260%\n",
      "Epoch: 7/15 Training Loss: 0.5785 Training Accuracy: 70.4179%\n",
      "Epoch: 7/15 Validation Loss: 0.6608 Validation Accuracy: 64.1239%\n",
      "Epoch: 8/15 Training Loss: 0.5639 Training Accuracy: 71.3411%\n",
      "Epoch: 8/15 Validation Loss: 0.6673 Validation Accuracy: 64.5015%\n",
      "Epoch: 9/15 Training Loss: 0.5511 Training Accuracy: 72.4068%\n",
      "Epoch: 9/15 Validation Loss: 0.6764 Validation Accuracy: 63.2931%\n",
      "Epoch: 10/15 Training Loss: 0.5365 Training Accuracy: 73.2544%\n",
      "Epoch: 10/15 Validation Loss: 0.6989 Validation Accuracy: 65.1813%\n",
      "Epoch: 11/15 Training Loss: 0.5206 Training Accuracy: 74.3370%\n",
      "Epoch: 11/15 Validation Loss: 0.7053 Validation Accuracy: 63.0665%\n",
      "Epoch: 12/15 Training Loss: 0.5052 Training Accuracy: 75.5203%\n",
      "Epoch: 12/15 Validation Loss: 0.7103 Validation Accuracy: 64.3505%\n",
      "Epoch: 13/15 Training Loss: 0.4880 Training Accuracy: 76.6868%\n",
      "Epoch: 13/15 Validation Loss: 0.7342 Validation Accuracy: 64.5770%\n",
      "Epoch: 14/15 Training Loss: 0.4728 Training Accuracy: 77.6519%\n",
      "Epoch: 14/15 Validation Loss: 0.7314 Validation Accuracy: 63.4441%\n",
      "Epoch: 15/15 Training Loss: 0.4595 Training Accuracy: 78.8520%\n",
      "Epoch: 15/15 Validation Loss: 0.7589 Validation Accuracy: 64.1994%\n"
     ]
    },
    {
     "data": {
      "image/png": "[encoded data removed]",
      "text/plain": [
       "<Figure size 640x480 with 1 Axes>"
      ]
     },
     "metadata": {},
     "output_type": "display_data"
    }
   ],
   "source": [
    "# Train the model and get the losses\n",
    "trained_model, train_losses, dev_losses = train_nn(15, model, train_loader, dev_loader)\n",
    "\n",
    "# Create a new figure\n",
    "plt.figure()\n",
    "\n",
    "# Plot the training and validation losses\n",
    "plt.plot(train_losses, label='Training Loss')\n",
    "plt.plot(dev_losses, label='Validation Loss')\n",
    "\n",
    "# Add labels to the axes\n",
    "plt.xlabel('Epoch')\n",
    "plt.ylabel('Loss')\n",
    "\n",
    "# Add a legend\n",
    "plt.legend()\n",
    "\n",
    "# Show the plot\n",
    "plt.show()"
   ]
  },
  {
   "cell_type": "markdown",
   "id": "d655f07b-c687-4d9b-a0b3-44f0d3ccbead",
   "metadata": {},
   "source": [
    "The code below obtains predictions from our neural network:"
   ]
  },
  {
   "cell_type": "code",
   "execution_count": 102,
   "id": "cf4368a8-57fc-4cd3-b74e-aa385105c91a",
   "metadata": {},
   "outputs": [],
   "source": [
    "def predict_nn(trained_model, test_loader):\n",
    "\n",
    "    trained_model.eval()  # switch off some randomisation used during training (dropout) to give consistent predictions\n",
    "\n",
    "    correct = 0  # count the number of correct classification labels\n",
    "\n",
    "    gold_labs = []  # gold labels to return\n",
    "    pred_labs = []  # predicted labels to return\n",
    "    \n",
    "    for inputs, labels in test_loader:\n",
    "        test_output = trained_model(inputs)  # run the forward() function on the inputs\n",
    "        predicted_labels = test_output.argmax(1)  # select the class labels with highest logits as our predictions\n",
    "\n",
    "        gold_labs.extend(labels.tolist())\n",
    "        pred_labs.extend(predicted_labels.tolist())\n",
    "    \n",
    "    return gold_labs, pred_labs\n",
    "\n",
    "gold_labs, pred_labs = predict_nn(trained_model, test_loader)"
   ]
  },
  {
   "cell_type": "code",
   "execution_count": 103,
   "id": "e2c0628a",
   "metadata": {},
   "outputs": [
    {
     "name": "stdout",
     "output_type": "stream",
     "text": [
      "[[  0 620]\n",
      " [  1 240]]\n"
     ]
    }
   ],
   "source": [
    "# show the counts of distinct values in the gold_labs list\n",
    "unique, counts = np.unique(gold_labs, return_counts=True)\n",
    "print(np.asarray((unique, counts)).T)"
   ]
  },
  {
   "cell_type": "markdown",
   "id": "e5620658-9e5a-4248-aa48-3e3868011aaf",
   "metadata": {},
   "source": [
    "Now, we can use pretrained word embeddings instead of learning them from scratch during training.\n",
    "Here, we will use the pretrained GloVe embeddings that we loaded before. The embedding matrix is used to initialise the embedding layer. The code below converts the GloVe embeddings into an embedding matrix suitable for PyTorch:"
   ]
  },
  {
   "cell_type": "code",
   "execution_count": 104,
   "id": "872638e9-f86c-48e4-8745-9c667e250a2b",
   "metadata": {},
   "outputs": [
    {
     "name": "stdout",
     "output_type": "stream",
     "text": [
      "tensor([[0., 0., 0.,  ..., 0., 0., 0.],\n",
      "        [0., 0., 0.,  ..., 0., 0., 0.],\n",
      "        [0., 0., 0.,  ..., 0., 0., 0.],\n",
      "        ...,\n",
      "        [0., 0., 0.,  ..., 0., 0., 0.],\n",
      "        [0., 0., 0.,  ..., 0., 0., 0.],\n",
      "        [0., 0., 0.,  ..., 0., 0., 0.]])\n",
      "15191\n"
     ]
    }
   ],
   "source": [
    "embedding_matrix = torch.zeros((vocab_size, glove_wv.vector_size))\n",
    "\n",
    "count = 0\n",
    "\n",
    "for word in vocab:\n",
    "    word_idx = vocab[word]\n",
    "    if word in glove_wv:\n",
    "        embedding_matrix[word_idx, :] = torch.from_numpy(glove_wv[word])\n",
    "        count +=1 \n",
    "        \n",
    "print(embedding_matrix)\n",
    "print(count)"
   ]
  },
  {
   "cell_type": "markdown",
   "id": "850e7656-343f-449c-9329-411ad7fb22d5",
   "metadata": {},
   "source": [
    "The class below extends the FFTextClassifier class (it's incomplete for now -- you'll fix this in a minute!). This means that it inherits all of its functionality, but we overwrite the constructor (the `__init__` method). This way, we don't need to define the forward function again, as it will be the same as before.\n",
    "\n",
    "The embedding layer is now different as it loads pretrained embeddings from our matrix. The argument `freeze` determines whether the embeddings remain fixed to their pretrained values (if `freeze=True`) or are updated through backpropagation to fit them to the dataset."
   ]
  },
  {
   "cell_type": "code",
   "execution_count": 105,
   "id": "09b93f97-57b9-4d3b-a36f-547d472e1f37",
   "metadata": {
    "pycharm": {
     "name": "#%%\n"
    }
   },
   "outputs": [],
   "source": [
    "class FFTextClassifierWithEmbeddings(FFTextClassifier):\n",
    "\n",
    "    def __init__(self, hidden_size, sequence_length, num_classes, embedding_matrix):\n",
    "        super(FFTextClassifier, self).__init__()\n",
    "\n",
    "        self.embedding_size = embedding_matrix.shape[1] \n",
    "\n",
    "        # Here we just need to construct the components of our network. We don't need to connect them together yet.\n",
    "        self.embedding_layer = nn.Embedding.from_pretrained(embedding_matrix, freeze=True) # embedding layer\n",
    "\n",
    "        ### COMPLETE THE ARGUMENTS TO SPECIFY THE DIMENSIONS OF THE LAYERS\n",
    "        self.hidden_layer = nn.Linear(self.embedding_size*sequence_length,hidden_size) # Hidden layer\n",
    "        self.activation = nn.ReLU() # Hidden layer\n",
    "        self.output_layer = nn.Linear(hidden_size, num_classes) # Full connection layer"
   ]
  },
  {
   "cell_type": "markdown",
   "id": "9eae91af-4e37-476d-ba7d-709924bb329c",
   "metadata": {},
   "source": [
    "Here we complete the arguments in the `FFTextClassifierWithEmbeddings` constructor to set the dimensions of the neural network layers.  Repeat the experiment above using the FFTextClassifierWithEmbeddings with the GLoVe embeddings. Choose a suitable performance metric and compare the performance of the two neural text classifiers.\n",
    "\n",
    "When looking at the macro f1 score (this is a good metric because we are interested in the performance across both classes) of the two models we can see that the model using pre-trained embeddings performs worse that the model using embeddings learned from scratch. This could be a result of the corpus that is used to train GloVe word embeddings. The data we are using here is tweets where as a large amount of data used to train GloVe is from Wikipedia. This suggests that the sentient of the two is significantly different. The confusion matrices show also that both models are worse and predicted the positive class. This is likely due to the class imbalance of the training data.\n"
   ]
  },
  {
   "cell_type": "code",
   "execution_count": 106,
   "id": "73d4afd4-a92d-468d-a6ea-e693c10de36d",
   "metadata": {
    "jupyter": {
     "outputs_hidden": false
    },
    "pycharm": {
     "name": "#%%\n"
    }
   },
   "outputs": [
    {
     "name": "stdout",
     "output_type": "stream",
     "text": [
      "Epoch: 1/15 Training Loss: 0.6509 Training Accuracy: 64.0483%\n",
      "Epoch: 1/15 Validation Loss: 0.6423 Validation Accuracy: 65.3323%\n",
      "Epoch: 2/15 Training Loss: 0.6262 Training Accuracy: 66.8849%\n",
      "Epoch: 2/15 Validation Loss: 0.6314 Validation Accuracy: 65.4834%\n",
      "Epoch: 3/15 Training Loss: 0.6149 Training Accuracy: 67.4891%\n",
      "Epoch: 3/15 Validation Loss: 0.6274 Validation Accuracy: 65.7855%\n",
      "Epoch: 4/15 Training Loss: 0.6002 Training Accuracy: 68.9409%\n",
      "Epoch: 4/15 Validation Loss: 0.6272 Validation Accuracy: 65.9366%\n",
      "Epoch: 5/15 Training Loss: 0.5827 Training Accuracy: 70.5606%\n",
      "Epoch: 5/15 Validation Loss: 0.6308 Validation Accuracy: 66.5408%\n",
      "Epoch: 6/15 Training Loss: 0.5644 Training Accuracy: 72.3397%\n",
      "Epoch: 6/15 Validation Loss: 0.6344 Validation Accuracy: 65.6344%\n",
      "Epoch: 7/15 Training Loss: 0.5488 Training Accuracy: 73.7748%\n",
      "Epoch: 7/15 Validation Loss: 0.6419 Validation Accuracy: 65.7100%\n",
      "Epoch: 8/15 Training Loss: 0.5315 Training Accuracy: 75.1594%\n",
      "Epoch: 8/15 Validation Loss: 0.6563 Validation Accuracy: 64.5015%\n",
      "Epoch: 9/15 Training Loss: 0.5157 Training Accuracy: 76.1497%\n",
      "Epoch: 9/15 Validation Loss: 0.6643 Validation Accuracy: 64.3505%\n",
      "Epoch: 10/15 Training Loss: 0.4992 Training Accuracy: 77.4841%\n",
      "Epoch: 10/15 Validation Loss: 0.6781 Validation Accuracy: 62.8399%\n",
      "Epoch: 11/15 Training Loss: 0.4849 Training Accuracy: 78.4491%\n",
      "Epoch: 11/15 Validation Loss: 0.6894 Validation Accuracy: 63.5952%\n",
      "Epoch: 12/15 Training Loss: 0.4691 Training Accuracy: 79.2800%\n",
      "Epoch: 12/15 Validation Loss: 0.6964 Validation Accuracy: 63.5952%\n",
      "Epoch: 13/15 Training Loss: 0.4587 Training Accuracy: 79.8674%\n",
      "Epoch: 13/15 Validation Loss: 0.7081 Validation Accuracy: 63.4441%\n",
      "Epoch: 14/15 Training Loss: 0.4439 Training Accuracy: 80.7737%\n",
      "Epoch: 14/15 Validation Loss: 0.7150 Validation Accuracy: 64.2749%\n",
      "Epoch: 15/15 Training Loss: 0.4331 Training Accuracy: 81.1598%\n",
      "Epoch: 15/15 Validation Loss: 0.7320 Validation Accuracy: 62.7644%\n"
     ]
    },
    {
     "data": {
      "image/png": "[encoded data removed]",
      "text/plain": [
       "<Figure size 640x480 with 1 Axes>"
      ]
     },
     "metadata": {},
     "output_type": "display_data"
    },
    {
     "name": "stdout",
     "output_type": "stream",
     "text": [
      "Macro F1 score with embeddings:  0.6022903781524471\n",
      "Macro F1 score:  0.5938210227272728\n"
     ]
    },
    {
     "data": {
      "image/png": "[encoded data removed]",
      "text/plain": [
       "<Figure size 1000x700 with 2 Axes>"
      ]
     },
     "metadata": {},
     "output_type": "display_data"
    },
    {
     "data": {
      "image/png": "[encoded data removed]",
      "text/plain": [
       "<Figure size 1000x700 with 2 Axes>"
      ]
     },
     "metadata": {},
     "output_type": "display_data"
    }
   ],
   "source": [
    "model_with_embeddings = FFTextClassifierWithEmbeddings(hidden_size, sequence_length, num_classes, embedding_matrix)\n",
    "\n",
    "# Train the model and get the losses\n",
    "trained_model_with_embeddings, train_losses, dev_losses = train_nn(15, model_with_embeddings, train_loader, dev_loader)\n",
    "\n",
    "# Create a new figure\n",
    "plt.figure()\n",
    "\n",
    "# Plot the training and validation losses\n",
    "plt.plot(train_losses, label='Training Loss')\n",
    "plt.plot(dev_losses, label='Validation Loss')\n",
    "\n",
    "# Add labels to the axes\n",
    "plt.xlabel('Epoch')\n",
    "plt.ylabel('Loss')\n",
    "\n",
    "# Add a legend\n",
    "plt.legend()\n",
    "\n",
    "# Show the plot\n",
    "plt.show()\n",
    "\n",
    "gold_labs_with_embeddings, pred_labs_with_embeddings = predict_nn(trained_model_with_embeddings, test_loader)\n",
    "\n",
    "from sklearn.metrics import f1_score, confusion_matrix, roc_auc_score\n",
    "# roc_auc_with_embeddings = roc_auc_score(gold_labs_with_embeddings, pred_labs_with_embeddings)\n",
    "macro_f1_with_embeddings = f1_score(gold_labs_with_embeddings, pred_labs_with_embeddings, average='macro')\n",
    "macro_f1 = f1_score(gold_labs, pred_labs, average='macro')\n",
    "\n",
    "print(\"Macro F1 score with embeddings: \", macro_f1_with_embeddings)\n",
    "print(\"Macro F1 score: \", macro_f1)\n",
    "\n",
    "# Generate confusion matrix\n",
    "cf_with_embeddings = confusion_matrix(gold_labs_with_embeddings, pred_labs_with_embeddings)\n",
    "cf = confusion_matrix(gold_labs, pred_labs)\n",
    "\n",
    "# Plot confusion matrix\n",
    "plt.figure(figsize=(10,7))\n",
    "plt.matshow(cf_with_embeddings, cmap=plt.cm.Blues, fignum=1)\n",
    "plt.title('Confusion Matrix Model')\n",
    "plt.colorbar()\n",
    "plt.xlabel('Predicted')\n",
    "plt.ylabel('Actual')\n",
    "for i in range(cf_with_embeddings.shape[0]):\n",
    "    for j in range(cf_with_embeddings.shape[1]):\n",
    "        plt.text(j, i, cf_with_embeddings[i, j], ha='center', va='center')\n",
    "\n",
    "# Show the plot\n",
    "plt.show()\n",
    "\n",
    "# Plot confusion matrix\n",
    "plt.figure(figsize=(10,7))\n",
    "plt.matshow(cf, cmap=plt.cm.Blues, fignum=1)\n",
    "plt.title('Confusion Matrix Model')\n",
    "plt.colorbar()\n",
    "plt.xlabel('Predicted')\n",
    "plt.ylabel('Actual')\n",
    "for i in range(cf.shape[0]):\n",
    "    for j in range(cf.shape[1]):\n",
    "        plt.text(j, i, cf[i, j], ha='center', va='center')\n",
    "\n",
    "# Show the plot\n",
    "plt.show()\n",
    "\n"
   ]
  },
  {
   "cell_type": "markdown",
   "id": "9b3c20d5-12c8-4820-89e2-e53c11b77b42",
   "metadata": {},
   "source": [
    "# 3. Improving the Neural Text Classifier\n",
    "\n",
    "Here we consider the neural text classifiers we have just implemented and the results you obtained in the last section. The classifiers have a number of limitations that we could improve. \n",
    "\n",
    "\n",
    "**Fine-tuning:** The orignial model use static word embeddings that are not updated during training. By allowing the pre-trained embeddings to be updated the model is able to fine-tine the embeddings for the specific task. This takes longer to train but increases performance. \n",
    "\n",
    "**Self-Attention:** In the first model all words in the input sequence are treated with equal importance. In many documents this is not the case, some words are more important. For example use of 'the' is often unimportant. A self-attention mechanism allows the model to assign different weights to each word representing their importance, overall improving the models understanding.\n",
    "\n",
    "**Prevent Overfitting:** By inspecting the loss for each epoch during training in terms of validation and training sets the optimal number of epochs is selected to prevent overfitting. \n",
    "\n",
    "\n"
   ]
  },
  {
   "cell_type": "code",
   "execution_count": 107,
   "id": "e99e0d0d-ac93-4f7b-8169-c81f6b151eed",
   "metadata": {},
   "outputs": [],
   "source": [
    "class FFTextClassifierEnhanced(FFTextClassifier):\n",
    "\n",
    "    def __init__(self, hidden_size, sequence_length, num_classes, embedding_matrix, num_heads=5):\n",
    "        super(FFTextClassifier, self).__init__()\n",
    "\n",
    "        self.embedding_size = embedding_matrix.shape[1] \n",
    "\n",
    "        self.embedding_layer = nn.Embedding.from_pretrained(embedding_matrix, freeze=False) # embedding layer\n",
    "\n",
    "        # Adding a self-attention layer\n",
    "        self.self_attention = nn.MultiheadAttention(embed_dim=self.embedding_size, num_heads=num_heads)\n",
    "\n",
    "        self.hidden_layer = nn.Linear(self.embedding_size*sequence_length,hidden_size) # Hidden layer\n",
    "        self.activation = nn.ReLU() # Hidden layer\n",
    "        self.output_layer = nn.Linear(hidden_size, num_classes) # Full connection layer\n",
    "    \n",
    "    def forward (self, input_words):\n",
    "        # Input dimensions are:  (batch_size, seq_length)\n",
    "        embedded_words = self.embedding_layer(input_words)  # (batch_size, seq_length, embedding_size)\n",
    "\n",
    "        # Pass the embedded words through the self-attention layer\n",
    "        # Permute is used to rearrange the dimensions to (seq_length, batch_size, embedding_size) as required by nn.MultiheadAttention\n",
    "        embedded_words = embedded_words.permute(1, 0, 2)\n",
    "        attn_output, _ = self.self_attention(embedded_words, embedded_words, embedded_words)\n",
    "        attn_output = attn_output.permute(1, 0, 2)  # rearrange dimensions back to (batch_size, seq_length, embedding_size)\n",
    "\n",
    "        # flatten the sequence of embedding vectors for each document into a single vector.\n",
    "        attn_output = attn_output.reshape(attn_output.shape[0], sequence_length*self.embedding_size)  # batch_size, seq_length*embedding_size\n",
    "\n",
    "        z = self.hidden_layer(attn_output)   # (batch_size, hidden_size)\n",
    "\n",
    "        h = self.activation(z)\n",
    "\n",
    "        output = self.output_layer(h)                      # (batch_size, num_classes)\n",
    "\n",
    "        # Notice we haven't applied a softmax activation to the output layer -- it's not required by Pytorch's loss function.\n",
    "\n",
    "        return output"
   ]
  },
  {
   "cell_type": "code",
   "execution_count": 108,
   "id": "b2e0d1b0",
   "metadata": {},
   "outputs": [
    {
     "name": "stdout",
     "output_type": "stream",
     "text": [
      "Epoch: 1/8 Training Loss: 0.6324 Training Accuracy: 66.9268%\n",
      "Epoch: 1/8 Validation Loss: 0.6272 Validation Accuracy: 65.3323%\n",
      "Epoch: 2/8 Training Loss: 0.6098 Training Accuracy: 66.9268%\n",
      "Epoch: 2/8 Validation Loss: 0.6011 Validation Accuracy: 65.3323%\n",
      "Epoch: 3/8 Training Loss: 0.5804 Training Accuracy: 69.2346%\n",
      "Epoch: 3/8 Validation Loss: 0.5688 Validation Accuracy: 70.0906%\n",
      "Epoch: 4/8 Training Loss: 0.5281 Training Accuracy: 74.0181%\n",
      "Epoch: 4/8 Validation Loss: 0.5467 Validation Accuracy: 71.8278%\n",
      "Epoch: 5/8 Training Loss: 0.4862 Training Accuracy: 76.8127%\n",
      "Epoch: 5/8 Validation Loss: 0.5446 Validation Accuracy: 72.1299%\n",
      "Epoch: 6/8 Training Loss: 0.4453 Training Accuracy: 79.3051%\n",
      "Epoch: 6/8 Validation Loss: 0.5365 Validation Accuracy: 75.8308%\n",
      "Epoch: 7/8 Training Loss: 0.4096 Training Accuracy: 81.7892%\n",
      "Epoch: 7/8 Validation Loss: 0.5487 Validation Accuracy: 74.8489%\n",
      "Epoch: 8/8 Training Loss: 0.3754 Training Accuracy: 83.4760%\n",
      "Epoch: 8/8 Validation Loss: 0.5558 Validation Accuracy: 73.8671%\n"
     ]
    },
    {
     "data": {
      "image/png": "[encoded data removed]",
      "text/plain": [
       "<Figure size 640x480 with 1 Axes>"
      ]
     },
     "metadata": {},
     "output_type": "display_data"
    },
    {
     "name": "stdout",
     "output_type": "stream",
     "text": [
      "Macro F1 score enhanced:  0.7257954076219049\n",
      "Macro F1 score:  0.5938210227272728\n"
     ]
    },
    {
     "data": {
      "image/png": "[encoded data removed]",
      "text/plain": [
       "<Figure size 1000x700 with 2 Axes>"
      ]
     },
     "metadata": {},
     "output_type": "display_data"
    }
   ],
   "source": [
    "model_enhanced = FFTextClassifierEnhanced(hidden_size, sequence_length, num_classes, embedding_matrix)\n",
    "\n",
    "# Train the model and get the losses\n",
    "trained_model_enhanced, train_losses, dev_losses = train_nn(8, model_enhanced, train_loader, dev_loader)\n",
    "\n",
    "# Create a new figure\n",
    "plt.figure()\n",
    "\n",
    "# Plot the training and validation losses\n",
    "plt.plot(train_losses, label='Training Loss')\n",
    "plt.plot(dev_losses, label='Validation Loss')\n",
    "\n",
    "# Add labels to the axes\n",
    "plt.xlabel('Epoch')\n",
    "plt.ylabel('Loss')\n",
    "\n",
    "# Add a legend\n",
    "plt.legend()\n",
    "\n",
    "# Show the plot\n",
    "plt.show()\n",
    "\n",
    "gold_labs_enhanced, pred_labs_enhanced = predict_nn(trained_model_enhanced, test_loader)\n",
    "\n",
    "from sklearn.metrics import f1_score, confusion_matrix, roc_auc_score\n",
    "# roc_auc_with_embeddings = roc_auc_score(gold_labs_with_embeddings, pred_labs_with_embeddings)\n",
    "macro_f1_enhanced = f1_score(gold_labs_enhanced, pred_labs_enhanced, average='macro')\n",
    "macro_f1 = f1_score(gold_labs, pred_labs, average='macro')\n",
    "\n",
    "print(\"Macro F1 score enhanced: \", macro_f1_enhanced)\n",
    "print(\"Macro F1 score: \", macro_f1)\n",
    "\n",
    "# Generate confusion matrix\n",
    "cf_enhanced = confusion_matrix(gold_labs_enhanced, pred_labs_enhanced)\n",
    "cf = confusion_matrix(gold_labs, pred_labs)\n",
    "\n",
    "# Plot confusion matrix\n",
    "plt.figure(figsize=(10,7))\n",
    "plt.matshow(cf_enhanced, cmap=plt.cm.Blues, fignum=1)\n",
    "plt.title('Confusion Matrix Model')\n",
    "plt.colorbar()\n",
    "plt.xlabel('Predicted')\n",
    "plt.ylabel('Actual')\n",
    "for i in range(cf_enhanced.shape[0]):\n",
    "    for j in range(cf_enhanced.shape[1]):\n",
    "        plt.text(j, i, cf_enhanced[i, j], ha='center', va='center')"
   ]
  }
 ],
 "metadata": {
  "kernelspec": {
   "display_name": "adv_data_analytics3",
   "language": "python",
   "name": "python3"
  },
  "language_info": {
   "codemirror_mode": {
    "name": "ipython",
    "version": 3
   },
   "file_extension": ".py",
   "mimetype": "text/x-python",
   "name": "python",
   "nbconvert_exporter": "python",
   "pygments_lexer": "ipython3",
   "version": "3.9.18"
  }
 },
 "nbformat": 4,
 "nbformat_minor": 5
}
